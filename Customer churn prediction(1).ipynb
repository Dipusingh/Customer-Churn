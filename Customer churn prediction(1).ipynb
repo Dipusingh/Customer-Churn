{
 "cells": [
  {
   "cell_type": "markdown",
   "metadata": {},
   "source": [
    "# Import Libraries"
   ]
  },
  {
   "cell_type": "code",
   "execution_count": 23,
   "metadata": {},
   "outputs": [],
   "source": [
    "# For Plotting\n",
    "%matplotlib inline\n",
    "import matplotlib.pyplot as plt\n",
    "import seaborn as sns\n",
    "\n",
    "# For Data manupulation\n",
    "import pandas as pd\n",
    "import numpy as np\n",
    "# For Stats\n",
    "import statistics\n",
    "from scipy import stats\n",
    "\n",
    "# For Modeling\n",
    "from sklearn.tree import DecisionTreeClassifier\n",
    "from sklearn.ensemble import RandomForestClassifier\n",
    "from sklearn.svm import SVC, LinearSVC\n",
    "from sklearn.neighbors import KNeighborsClassifier\n",
    "from sklearn.linear_model import LogisticRegression\n",
    "\n",
    "from sklearn.metrics import roc_curve, auc\n",
    "\n",
    "\n",
    "\n",
    "\n",
    "\n"
   ]
  },
  {
   "cell_type": "markdown",
   "metadata": {},
   "source": [
    "## LOAD DATASET"
   ]
  },
  {
   "cell_type": "code",
   "execution_count": 298,
   "metadata": {},
   "outputs": [],
   "source": [
    "\n",
    "df_train= pd.read_csv(\"D:/projects/Project/Train_data.csv\")\n",
    "df_test= pd.read_csv(\"D:/projects/Project/Test_data.csv\")\n"
   ]
  },
  {
   "cell_type": "code",
   "execution_count": 13,
   "metadata": {
    "scrolled": true
   },
   "outputs": [
    {
     "data": {
      "text/html": [
       "<div>\n",
       "<style scoped>\n",
       "    .dataframe tbody tr th:only-of-type {\n",
       "        vertical-align: middle;\n",
       "    }\n",
       "\n",
       "    .dataframe tbody tr th {\n",
       "        vertical-align: top;\n",
       "    }\n",
       "\n",
       "    .dataframe thead th {\n",
       "        text-align: right;\n",
       "    }\n",
       "</style>\n",
       "<table border=\"1\" class=\"dataframe\">\n",
       "  <thead>\n",
       "    <tr style=\"text-align: right;\">\n",
       "      <th></th>\n",
       "      <th>state</th>\n",
       "      <th>account_len</th>\n",
       "      <th>area_code</th>\n",
       "      <th>phone_num</th>\n",
       "      <th>international_plan</th>\n",
       "      <th>voice_mail_plan</th>\n",
       "      <th>number_vmail_msg</th>\n",
       "      <th>total_day_minutes</th>\n",
       "      <th>total_day_calls</th>\n",
       "      <th>total_day_charge</th>\n",
       "      <th>...</th>\n",
       "      <th>total_eve_calls</th>\n",
       "      <th>total_eve_charge</th>\n",
       "      <th>total_night_minutes</th>\n",
       "      <th>total_night_calls</th>\n",
       "      <th>total_nightcharge</th>\n",
       "      <th>total_intl_minutes</th>\n",
       "      <th>total_intl_calls</th>\n",
       "      <th>total_intl_charge</th>\n",
       "      <th>num _customer_service_calls</th>\n",
       "      <th>Churn</th>\n",
       "    </tr>\n",
       "  </thead>\n",
       "  <tbody>\n",
       "    <tr>\n",
       "      <th>0</th>\n",
       "      <td>KS</td>\n",
       "      <td>128</td>\n",
       "      <td>415</td>\n",
       "      <td>382-4657</td>\n",
       "      <td>no</td>\n",
       "      <td>yes</td>\n",
       "      <td>25</td>\n",
       "      <td>265.1</td>\n",
       "      <td>110</td>\n",
       "      <td>45.07</td>\n",
       "      <td>...</td>\n",
       "      <td>99</td>\n",
       "      <td>16.78</td>\n",
       "      <td>244.7</td>\n",
       "      <td>91</td>\n",
       "      <td>11.01</td>\n",
       "      <td>10.0</td>\n",
       "      <td>3</td>\n",
       "      <td>2.70</td>\n",
       "      <td>1</td>\n",
       "      <td>False.</td>\n",
       "    </tr>\n",
       "    <tr>\n",
       "      <th>1</th>\n",
       "      <td>OH</td>\n",
       "      <td>107</td>\n",
       "      <td>415</td>\n",
       "      <td>371-7191</td>\n",
       "      <td>no</td>\n",
       "      <td>yes</td>\n",
       "      <td>26</td>\n",
       "      <td>161.6</td>\n",
       "      <td>123</td>\n",
       "      <td>27.47</td>\n",
       "      <td>...</td>\n",
       "      <td>103</td>\n",
       "      <td>16.62</td>\n",
       "      <td>254.4</td>\n",
       "      <td>103</td>\n",
       "      <td>11.45</td>\n",
       "      <td>13.7</td>\n",
       "      <td>3</td>\n",
       "      <td>3.70</td>\n",
       "      <td>1</td>\n",
       "      <td>False.</td>\n",
       "    </tr>\n",
       "    <tr>\n",
       "      <th>2</th>\n",
       "      <td>NJ</td>\n",
       "      <td>137</td>\n",
       "      <td>415</td>\n",
       "      <td>358-1921</td>\n",
       "      <td>no</td>\n",
       "      <td>no</td>\n",
       "      <td>0</td>\n",
       "      <td>243.4</td>\n",
       "      <td>114</td>\n",
       "      <td>41.38</td>\n",
       "      <td>...</td>\n",
       "      <td>110</td>\n",
       "      <td>10.30</td>\n",
       "      <td>162.6</td>\n",
       "      <td>104</td>\n",
       "      <td>7.32</td>\n",
       "      <td>12.2</td>\n",
       "      <td>5</td>\n",
       "      <td>3.29</td>\n",
       "      <td>0</td>\n",
       "      <td>False.</td>\n",
       "    </tr>\n",
       "    <tr>\n",
       "      <th>3</th>\n",
       "      <td>OH</td>\n",
       "      <td>84</td>\n",
       "      <td>408</td>\n",
       "      <td>375-9999</td>\n",
       "      <td>yes</td>\n",
       "      <td>no</td>\n",
       "      <td>0</td>\n",
       "      <td>299.4</td>\n",
       "      <td>71</td>\n",
       "      <td>50.90</td>\n",
       "      <td>...</td>\n",
       "      <td>88</td>\n",
       "      <td>5.26</td>\n",
       "      <td>196.9</td>\n",
       "      <td>89</td>\n",
       "      <td>8.86</td>\n",
       "      <td>6.6</td>\n",
       "      <td>7</td>\n",
       "      <td>1.78</td>\n",
       "      <td>2</td>\n",
       "      <td>False.</td>\n",
       "    </tr>\n",
       "    <tr>\n",
       "      <th>4</th>\n",
       "      <td>OK</td>\n",
       "      <td>75</td>\n",
       "      <td>415</td>\n",
       "      <td>330-6626</td>\n",
       "      <td>yes</td>\n",
       "      <td>no</td>\n",
       "      <td>0</td>\n",
       "      <td>166.7</td>\n",
       "      <td>113</td>\n",
       "      <td>28.34</td>\n",
       "      <td>...</td>\n",
       "      <td>122</td>\n",
       "      <td>12.61</td>\n",
       "      <td>186.9</td>\n",
       "      <td>121</td>\n",
       "      <td>8.41</td>\n",
       "      <td>10.1</td>\n",
       "      <td>3</td>\n",
       "      <td>2.73</td>\n",
       "      <td>3</td>\n",
       "      <td>False.</td>\n",
       "    </tr>\n",
       "  </tbody>\n",
       "</table>\n",
       "<p>5 rows × 21 columns</p>\n",
       "</div>"
      ],
      "text/plain": [
       "  state  account_len  area_code  phone_num international_plan voice_mail_plan  \\\n",
       "0    KS          128        415   382-4657                 no             yes   \n",
       "1    OH          107        415   371-7191                 no             yes   \n",
       "2    NJ          137        415   358-1921                 no              no   \n",
       "3    OH           84        408   375-9999                yes              no   \n",
       "4    OK           75        415   330-6626                yes              no   \n",
       "\n",
       "   number_vmail_msg  total_day_minutes  total_day_calls  total_day_charge  \\\n",
       "0                25              265.1              110             45.07   \n",
       "1                26              161.6              123             27.47   \n",
       "2                 0              243.4              114             41.38   \n",
       "3                 0              299.4               71             50.90   \n",
       "4                 0              166.7              113             28.34   \n",
       "\n",
       "    ...     total_eve_calls  total_eve_charge  total_night_minutes  \\\n",
       "0   ...                  99             16.78                244.7   \n",
       "1   ...                 103             16.62                254.4   \n",
       "2   ...                 110             10.30                162.6   \n",
       "3   ...                  88              5.26                196.9   \n",
       "4   ...                 122             12.61                186.9   \n",
       "\n",
       "   total_night_calls  total_nightcharge  total_intl_minutes  total_intl_calls  \\\n",
       "0                 91              11.01                10.0                 3   \n",
       "1                103              11.45                13.7                 3   \n",
       "2                104               7.32                12.2                 5   \n",
       "3                 89               8.86                 6.6                 7   \n",
       "4                121               8.41                10.1                 3   \n",
       "\n",
       "   total_intl_charge  num _customer_service_calls    Churn  \n",
       "0               2.70                            1   False.  \n",
       "1               3.70                            1   False.  \n",
       "2               3.29                            0   False.  \n",
       "3               1.78                            2   False.  \n",
       "4               2.73                            3   False.  \n",
       "\n",
       "[5 rows x 21 columns]"
      ]
     },
     "execution_count": 13,
     "metadata": {},
     "output_type": "execute_result"
    }
   ],
   "source": [
    "df_train.head()\n",
    "#df_test.head()"
   ]
  },
  {
   "cell_type": "code",
   "execution_count": 299,
   "metadata": {
    "scrolled": true
   },
   "outputs": [
    {
     "name": "stdout",
     "output_type": "stream",
     "text": [
      "<class 'pandas.core.frame.DataFrame'>\n",
      "RangeIndex: 3333 entries, 0 to 3332\n",
      "Data columns (total 21 columns):\n",
      "state                          3333 non-null object\n",
      "account_len                    3333 non-null int64\n",
      "area_code                      3333 non-null int64\n",
      "phone_num                      3333 non-null object\n",
      "international_plan             3333 non-null object\n",
      "voice_mail_plan                3333 non-null object\n",
      "number_vmail_msg               3333 non-null int64\n",
      "total_day_minutes              3333 non-null float64\n",
      "total_day_calls                3333 non-null int64\n",
      "total_day_charge               3333 non-null float64\n",
      "total_eve_mnts                 3333 non-null float64\n",
      "total_eve_calls                3333 non-null int64\n",
      "total_eve_charge               3333 non-null float64\n",
      "total_night_minutes            3333 non-null float64\n",
      "total_night_calls              3333 non-null int64\n",
      "total_nightcharge              3333 non-null float64\n",
      "total_intl_minutes             3333 non-null float64\n",
      "total_intl_calls               3333 non-null int64\n",
      "total_intl_charge              3333 non-null float64\n",
      "num _customer_service_calls    3333 non-null int64\n",
      "Churn                          3333 non-null object\n",
      "dtypes: float64(8), int64(8), object(5)\n",
      "memory usage: 546.9+ KB\n",
      "____________________________________________________________\n",
      "<class 'pandas.core.frame.DataFrame'>\n",
      "RangeIndex: 1667 entries, 0 to 1666\n",
      "Data columns (total 21 columns):\n",
      "state                          1667 non-null object\n",
      "account_len                    1667 non-null int64\n",
      "area_code                      1667 non-null int64\n",
      "phone_num                      1667 non-null object\n",
      "international_plan             1667 non-null object\n",
      "voice_mail_plan                1667 non-null object\n",
      "number_vmail_msg               1667 non-null int64\n",
      "total_day_minutes              1667 non-null float64\n",
      "total_day_calls                1667 non-null int64\n",
      "total_day_charge               1667 non-null float64\n",
      "total_eve_mnts                 1667 non-null float64\n",
      "total_eve_calls                1667 non-null int64\n",
      "total_eve_charge               1667 non-null float64\n",
      "total_night_minutes            1667 non-null float64\n",
      "total_night_calls              1667 non-null int64\n",
      "total_nightcharge              1667 non-null float64\n",
      "total_intl_minutes             1667 non-null float64\n",
      "total_intl_calls               1667 non-null int64\n",
      "total_intl_charge              1667 non-null float64\n",
      "num _customer_service_calls    1667 non-null int64\n",
      "Churn                          1667 non-null object\n",
      "dtypes: float64(8), int64(8), object(5)\n",
      "memory usage: 273.6+ KB\n"
     ]
    }
   ],
   "source": [
    "df_train.info() \n",
    "print('_'*60)\n",
    "df_test.info()  "
   ]
  },
  {
   "cell_type": "code",
   "execution_count": 300,
   "metadata": {},
   "outputs": [],
   "source": [
    "df_train[\"num _customer_service_calls\"]= df_train[\"num _customer_service_calls\"].astype(\"O\")\n",
    "df_train[\"area_code\"]= df_train[\"area_code\"].astype(\"O\")\n",
    "df_train[\"number_vmail_msg\"]= df_train[\"number_vmail_msg\"].astype(\"O\")"
   ]
  },
  {
   "cell_type": "code",
   "execution_count": 301,
   "metadata": {
    "scrolled": true
   },
   "outputs": [
    {
     "data": {
      "text/html": [
       "<div>\n",
       "<style scoped>\n",
       "    .dataframe tbody tr th:only-of-type {\n",
       "        vertical-align: middle;\n",
       "    }\n",
       "\n",
       "    .dataframe tbody tr th {\n",
       "        vertical-align: top;\n",
       "    }\n",
       "\n",
       "    .dataframe thead th {\n",
       "        text-align: right;\n",
       "    }\n",
       "</style>\n",
       "<table border=\"1\" class=\"dataframe\">\n",
       "  <thead>\n",
       "    <tr style=\"text-align: right;\">\n",
       "      <th></th>\n",
       "      <th>count</th>\n",
       "      <th>mean</th>\n",
       "      <th>std</th>\n",
       "      <th>min</th>\n",
       "      <th>25%</th>\n",
       "      <th>50%</th>\n",
       "      <th>75%</th>\n",
       "      <th>max</th>\n",
       "    </tr>\n",
       "  </thead>\n",
       "  <tbody>\n",
       "    <tr>\n",
       "      <th>account_len</th>\n",
       "      <td>3333.0</td>\n",
       "      <td>101.064806</td>\n",
       "      <td>39.822106</td>\n",
       "      <td>1.00</td>\n",
       "      <td>74.00</td>\n",
       "      <td>101.00</td>\n",
       "      <td>127.00</td>\n",
       "      <td>243.00</td>\n",
       "    </tr>\n",
       "    <tr>\n",
       "      <th>total_day_minutes</th>\n",
       "      <td>3333.0</td>\n",
       "      <td>179.775098</td>\n",
       "      <td>54.467389</td>\n",
       "      <td>0.00</td>\n",
       "      <td>143.70</td>\n",
       "      <td>179.40</td>\n",
       "      <td>216.40</td>\n",
       "      <td>350.80</td>\n",
       "    </tr>\n",
       "    <tr>\n",
       "      <th>total_day_calls</th>\n",
       "      <td>3333.0</td>\n",
       "      <td>100.435644</td>\n",
       "      <td>20.069084</td>\n",
       "      <td>0.00</td>\n",
       "      <td>87.00</td>\n",
       "      <td>101.00</td>\n",
       "      <td>114.00</td>\n",
       "      <td>165.00</td>\n",
       "    </tr>\n",
       "    <tr>\n",
       "      <th>total_day_charge</th>\n",
       "      <td>3333.0</td>\n",
       "      <td>30.562307</td>\n",
       "      <td>9.259435</td>\n",
       "      <td>0.00</td>\n",
       "      <td>24.43</td>\n",
       "      <td>30.50</td>\n",
       "      <td>36.79</td>\n",
       "      <td>59.64</td>\n",
       "    </tr>\n",
       "    <tr>\n",
       "      <th>total_eve_mnts</th>\n",
       "      <td>3333.0</td>\n",
       "      <td>200.980348</td>\n",
       "      <td>50.713844</td>\n",
       "      <td>0.00</td>\n",
       "      <td>166.60</td>\n",
       "      <td>201.40</td>\n",
       "      <td>235.30</td>\n",
       "      <td>363.70</td>\n",
       "    </tr>\n",
       "    <tr>\n",
       "      <th>total_eve_calls</th>\n",
       "      <td>3333.0</td>\n",
       "      <td>100.114311</td>\n",
       "      <td>19.922625</td>\n",
       "      <td>0.00</td>\n",
       "      <td>87.00</td>\n",
       "      <td>100.00</td>\n",
       "      <td>114.00</td>\n",
       "      <td>170.00</td>\n",
       "    </tr>\n",
       "    <tr>\n",
       "      <th>total_eve_charge</th>\n",
       "      <td>3333.0</td>\n",
       "      <td>17.083540</td>\n",
       "      <td>4.310668</td>\n",
       "      <td>0.00</td>\n",
       "      <td>14.16</td>\n",
       "      <td>17.12</td>\n",
       "      <td>20.00</td>\n",
       "      <td>30.91</td>\n",
       "    </tr>\n",
       "    <tr>\n",
       "      <th>total_night_minutes</th>\n",
       "      <td>3333.0</td>\n",
       "      <td>200.872037</td>\n",
       "      <td>50.573847</td>\n",
       "      <td>23.20</td>\n",
       "      <td>167.00</td>\n",
       "      <td>201.20</td>\n",
       "      <td>235.30</td>\n",
       "      <td>395.00</td>\n",
       "    </tr>\n",
       "    <tr>\n",
       "      <th>total_night_calls</th>\n",
       "      <td>3333.0</td>\n",
       "      <td>100.107711</td>\n",
       "      <td>19.568609</td>\n",
       "      <td>33.00</td>\n",
       "      <td>87.00</td>\n",
       "      <td>100.00</td>\n",
       "      <td>113.00</td>\n",
       "      <td>175.00</td>\n",
       "    </tr>\n",
       "    <tr>\n",
       "      <th>total_nightcharge</th>\n",
       "      <td>3333.0</td>\n",
       "      <td>9.039325</td>\n",
       "      <td>2.275873</td>\n",
       "      <td>1.04</td>\n",
       "      <td>7.52</td>\n",
       "      <td>9.05</td>\n",
       "      <td>10.59</td>\n",
       "      <td>17.77</td>\n",
       "    </tr>\n",
       "    <tr>\n",
       "      <th>total_intl_minutes</th>\n",
       "      <td>3333.0</td>\n",
       "      <td>10.237294</td>\n",
       "      <td>2.791840</td>\n",
       "      <td>0.00</td>\n",
       "      <td>8.50</td>\n",
       "      <td>10.30</td>\n",
       "      <td>12.10</td>\n",
       "      <td>20.00</td>\n",
       "    </tr>\n",
       "    <tr>\n",
       "      <th>total_intl_calls</th>\n",
       "      <td>3333.0</td>\n",
       "      <td>4.479448</td>\n",
       "      <td>2.461214</td>\n",
       "      <td>0.00</td>\n",
       "      <td>3.00</td>\n",
       "      <td>4.00</td>\n",
       "      <td>6.00</td>\n",
       "      <td>20.00</td>\n",
       "    </tr>\n",
       "    <tr>\n",
       "      <th>total_intl_charge</th>\n",
       "      <td>3333.0</td>\n",
       "      <td>2.764581</td>\n",
       "      <td>0.753773</td>\n",
       "      <td>0.00</td>\n",
       "      <td>2.30</td>\n",
       "      <td>2.78</td>\n",
       "      <td>3.27</td>\n",
       "      <td>5.40</td>\n",
       "    </tr>\n",
       "  </tbody>\n",
       "</table>\n",
       "</div>"
      ],
      "text/plain": [
       "                      count        mean        std    min     25%     50%  \\\n",
       "account_len          3333.0  101.064806  39.822106   1.00   74.00  101.00   \n",
       "total_day_minutes    3333.0  179.775098  54.467389   0.00  143.70  179.40   \n",
       "total_day_calls      3333.0  100.435644  20.069084   0.00   87.00  101.00   \n",
       "total_day_charge     3333.0   30.562307   9.259435   0.00   24.43   30.50   \n",
       "total_eve_mnts       3333.0  200.980348  50.713844   0.00  166.60  201.40   \n",
       "total_eve_calls      3333.0  100.114311  19.922625   0.00   87.00  100.00   \n",
       "total_eve_charge     3333.0   17.083540   4.310668   0.00   14.16   17.12   \n",
       "total_night_minutes  3333.0  200.872037  50.573847  23.20  167.00  201.20   \n",
       "total_night_calls    3333.0  100.107711  19.568609  33.00   87.00  100.00   \n",
       "total_nightcharge    3333.0    9.039325   2.275873   1.04    7.52    9.05   \n",
       "total_intl_minutes   3333.0   10.237294   2.791840   0.00    8.50   10.30   \n",
       "total_intl_calls     3333.0    4.479448   2.461214   0.00    3.00    4.00   \n",
       "total_intl_charge    3333.0    2.764581   0.753773   0.00    2.30    2.78   \n",
       "\n",
       "                        75%     max  \n",
       "account_len          127.00  243.00  \n",
       "total_day_minutes    216.40  350.80  \n",
       "total_day_calls      114.00  165.00  \n",
       "total_day_charge      36.79   59.64  \n",
       "total_eve_mnts       235.30  363.70  \n",
       "total_eve_calls      114.00  170.00  \n",
       "total_eve_charge      20.00   30.91  \n",
       "total_night_minutes  235.30  395.00  \n",
       "total_night_calls    113.00  175.00  \n",
       "total_nightcharge     10.59   17.77  \n",
       "total_intl_minutes    12.10   20.00  \n",
       "total_intl_calls       6.00   20.00  \n",
       "total_intl_charge      3.27    5.40  "
      ]
     },
     "execution_count": 301,
     "metadata": {},
     "output_type": "execute_result"
    }
   ],
   "source": [
    "df_train.describe().T"
   ]
  },
  {
   "cell_type": "markdown",
   "metadata": {},
   "source": [
    "## UNivariate Analysis"
   ]
  },
  {
   "cell_type": "markdown",
   "metadata": {},
   "source": [
    "## Lets Look at Target variable first"
   ]
  },
  {
   "cell_type": "code",
   "execution_count": 306,
   "metadata": {},
   "outputs": [
    {
     "data": {
      "text/plain": [
       "<matplotlib.axes._subplots.AxesSubplot at 0x36b6d2b0>"
      ]
     },
     "execution_count": 306,
     "metadata": {},
     "output_type": "execute_result"
    },
    {
     "data": {
      "image/png": "[encoded data removed]",
      "text/plain": [
       "<matplotlib.figure.Figure at 0x41e69ba8>"
      ]
     },
     "metadata": {},
     "output_type": "display_data"
    }
   ],
   "source": [
    "df_train['Churn'].value_counts(normalize= True)\n",
    "df_train['Churn'].value_counts().plot(kind= \"bar\")"
   ]
  },
  {
   "cell_type": "markdown",
   "metadata": {},
   "source": [
    "## OUTLIER ANALYSIS\n",
    "## since upto 3 std dataset contains 99% of the total data so considering outlier remove all the values z > 3\n",
    "## As we can see after removing outliers total datasize is 3311 means ~ 99% of the dataset which support above assumption"
   ]
  },
  {
   "cell_type": "code",
   "execution_count": 15,
   "metadata": {},
   "outputs": [
    {
     "data": {
      "text/plain": [
       "(3311, 21)"
      ]
     },
     "execution_count": 15,
     "metadata": {},
     "output_type": "execute_result"
    }
   ],
   "source": [
    "num_val= df_train._get_numeric_data().columns\n",
    "for i in num_val:\n",
    "    z= np.abs(stats.zscore(df_train.loc[:, i]))\n",
    "    #print(z)\n",
    "    \n",
    "#df_train= df_train[(z < 3).reshape(-1, 1).all(axis= 1)]\n",
    "\n",
    "df_train.shape"
   ]
  },
  {
   "cell_type": "markdown",
   "metadata": {},
   "source": [
    "# 1. EXPLORATARY DATA ANALYSIS"
   ]
  },
  {
   "cell_type": "markdown",
   "metadata": {},
   "source": [
    "## Provide integer code to Churn variable"
   ]
  },
  {
   "cell_type": "code",
   "execution_count": 205,
   "metadata": {
    "scrolled": false
   },
   "outputs": [
    {
     "data": {
      "text/plain": [
       "dtype('int8')"
      ]
     },
     "execution_count": 205,
     "metadata": {},
     "output_type": "execute_result"
    }
   ],
   "source": [
    "# Provie numerical value to churn variabe\n",
    "df_train[\"Churn\"]= df_train[\"Churn\"].astype(\"category\")\n",
    "df_train[\"Churn\"]= df_train[\"Churn\"].cat.codes\n",
    "\n",
    "\n",
    "df_train[\"Churn\"].dtypes"
   ]
  },
  {
   "cell_type": "markdown",
   "metadata": {},
   "source": [
    "## Lets See how the output churn is distributed "
   ]
  },
  {
   "cell_type": "code",
   "execution_count": 9,
   "metadata": {},
   "outputs": [
    {
     "data": {
      "text/plain": [
       " False.    0.855086\n",
       " True.     0.144914\n",
       "Name: Churn, dtype: float64"
      ]
     },
     "execution_count": 9,
     "metadata": {},
     "output_type": "execute_result"
    }
   ],
   "source": [
    "df_train[\"Churn\"].value_counts(normalize= True)"
   ]
  },
  {
   "cell_type": "code",
   "execution_count": 10,
   "metadata": {
    "scrolled": true
   },
   "outputs": [
    {
     "data": {
      "text/plain": [
       "<matplotlib.axes._subplots.AxesSubplot at 0xb633438>"
      ]
     },
     "execution_count": 10,
     "metadata": {},
     "output_type": "execute_result"
    },
    {
     "data": {
      "image/png": "[encoded data removed]",
      "text/plain": [
       "<matplotlib.figure.Figure at 0x5802ef0>"
      ]
     },
     "metadata": {},
     "output_type": "display_data"
    }
   ],
   "source": [
    "df_train[\"Churn\"].value_counts(normalize= True).plot(kind= \"Bar\")"
   ]
  },
  {
   "cell_type": "code",
   "execution_count": 312,
   "metadata": {},
   "outputs": [
    {
     "data": {
      "text/plain": [
       "Index(['state', 'account_len', 'area_code', 'phone_num', 'international_plan',\n",
       "       'voice_mail_plan', 'number_vmail_msg', 'total_day_minutes',\n",
       "       'total_day_calls', 'total_day_charge', 'total_eve_mnts',\n",
       "       'total_eve_calls', 'total_eve_charge', 'total_night_minutes',\n",
       "       'total_night_calls', 'total_nightcharge', 'total_intl_minutes',\n",
       "       'total_intl_calls', 'total_intl_charge', 'num _customer_service_calls',\n",
       "       'Churn'],\n",
       "      dtype='object')"
      ]
     },
     "execution_count": 312,
     "metadata": {},
     "output_type": "execute_result"
    }
   ],
   "source": [
    "df_train.columns"
   ]
  },
  {
   "cell_type": "markdown",
   "metadata": {},
   "source": [
    "## Cateorical Analysis"
   ]
  },
  {
   "cell_type": "code",
   "execution_count": 315,
   "metadata": {
    "scrolled": true
   },
   "outputs": [
    {
     "data": {
      "text/plain": [
       "<matplotlib.axes._subplots.AxesSubplot at 0x41f01f60>"
      ]
     },
     "execution_count": 315,
     "metadata": {},
     "output_type": "execute_result"
    },
    {
     "data": {
      "image/png": "[encoded data removed]",
      "text/plain": [
       "<matplotlib.figure.Figure at 0x36e90908>"
      ]
     },
     "metadata": {},
     "output_type": "display_data"
    }
   ],
   "source": [
    "# VOice mail plan distribution\n",
    "df_train.voice_mail_plan.value_counts(normalize= False).plot(kind= \"bar\")"
   ]
  },
  {
   "cell_type": "code",
   "execution_count": 319,
   "metadata": {
    "scrolled": true
   },
   "outputs": [
    {
     "data": {
      "text/plain": [
       "<matplotlib.axes._subplots.AxesSubplot at 0x1cc24198>"
      ]
     },
     "execution_count": 319,
     "metadata": {},
     "output_type": "execute_result"
    },
    {
     "data": {
      "image/png": "[encoded data removed]",
      "text/plain": [
       "<matplotlib.figure.Figure at 0x1cddfeb8>"
      ]
     },
     "metadata": {},
     "output_type": "display_data"
    }
   ],
   "source": [
    "df_train.international_plan.value_counts().plot(kind= \"bar\")"
   ]
  },
  {
   "cell_type": "markdown",
   "metadata": {},
   "source": [
    "# BIVARIATE ANALYSIS"
   ]
  },
  {
   "cell_type": "code",
   "execution_count": 297,
   "metadata": {},
   "outputs": [
    {
     "data": {
      "text/html": [
       "<div>\n",
       "<style scoped>\n",
       "    .dataframe tbody tr th:only-of-type {\n",
       "        vertical-align: middle;\n",
       "    }\n",
       "\n",
       "    .dataframe tbody tr th {\n",
       "        vertical-align: top;\n",
       "    }\n",
       "\n",
       "    .dataframe thead th {\n",
       "        text-align: right;\n",
       "    }\n",
       "</style>\n",
       "<table border=\"1\" class=\"dataframe\">\n",
       "  <thead>\n",
       "    <tr style=\"text-align: right;\">\n",
       "      <th></th>\n",
       "      <th>total_day_calls</th>\n",
       "      <th>total_day_charge</th>\n",
       "      <th>total_eve_calls</th>\n",
       "      <th>total_eve_charge</th>\n",
       "      <th>total_night_calls</th>\n",
       "      <th>total_nightcharge</th>\n",
       "      <th>total_intl_calls</th>\n",
       "      <th>total_intl_charge</th>\n",
       "      <th>state_AK</th>\n",
       "      <th>state_AL</th>\n",
       "      <th>...</th>\n",
       "      <th>state_SD</th>\n",
       "      <th>state_TN</th>\n",
       "      <th>state_TX</th>\n",
       "      <th>state_UT</th>\n",
       "      <th>state_VA</th>\n",
       "      <th>state_VT</th>\n",
       "      <th>state_WA</th>\n",
       "      <th>state_WI</th>\n",
       "      <th>state_WV</th>\n",
       "      <th>state_WY</th>\n",
       "    </tr>\n",
       "    <tr>\n",
       "      <th>Churn</th>\n",
       "      <th></th>\n",
       "      <th></th>\n",
       "      <th></th>\n",
       "      <th></th>\n",
       "      <th></th>\n",
       "      <th></th>\n",
       "      <th></th>\n",
       "      <th></th>\n",
       "      <th></th>\n",
       "      <th></th>\n",
       "      <th></th>\n",
       "      <th></th>\n",
       "      <th></th>\n",
       "      <th></th>\n",
       "      <th></th>\n",
       "      <th></th>\n",
       "      <th></th>\n",
       "      <th></th>\n",
       "      <th></th>\n",
       "      <th></th>\n",
       "      <th></th>\n",
       "    </tr>\n",
       "  </thead>\n",
       "  <tbody>\n",
       "    <tr>\n",
       "      <th>0</th>\n",
       "      <td>-0.008069</td>\n",
       "      <td>-0.084801</td>\n",
       "      <td>-0.003293</td>\n",
       "      <td>-0.038072</td>\n",
       "      <td>-0.002343</td>\n",
       "      <td>-0.015351</td>\n",
       "      <td>0.024005</td>\n",
       "      <td>-0.024683</td>\n",
       "      <td>0.017321</td>\n",
       "      <td>0.025451</td>\n",
       "      <td>...</td>\n",
       "      <td>0.018381</td>\n",
       "      <td>0.016967</td>\n",
       "      <td>0.019088</td>\n",
       "      <td>0.021916</td>\n",
       "      <td>0.025097</td>\n",
       "      <td>0.022269</td>\n",
       "      <td>0.018381</td>\n",
       "      <td>0.024744</td>\n",
       "      <td>0.033581</td>\n",
       "      <td>0.023683</td>\n",
       "    </tr>\n",
       "    <tr>\n",
       "      <th>1</th>\n",
       "      <td>0.047361</td>\n",
       "      <td>0.497724</td>\n",
       "      <td>0.019325</td>\n",
       "      <td>0.223454</td>\n",
       "      <td>0.013753</td>\n",
       "      <td>0.090099</td>\n",
       "      <td>-0.140894</td>\n",
       "      <td>0.144874</td>\n",
       "      <td>0.006224</td>\n",
       "      <td>0.016598</td>\n",
       "      <td>...</td>\n",
       "      <td>0.016598</td>\n",
       "      <td>0.010373</td>\n",
       "      <td>0.037344</td>\n",
       "      <td>0.020747</td>\n",
       "      <td>0.010373</td>\n",
       "      <td>0.016598</td>\n",
       "      <td>0.029046</td>\n",
       "      <td>0.014523</td>\n",
       "      <td>0.020747</td>\n",
       "      <td>0.018672</td>\n",
       "    </tr>\n",
       "  </tbody>\n",
       "</table>\n",
       "<p>2 rows × 59 columns</p>\n",
       "</div>"
      ],
      "text/plain": [
       "       total_day_calls  total_day_charge  total_eve_calls  total_eve_charge  \\\n",
       "Churn                                                                         \n",
       "0            -0.008069         -0.084801        -0.003293         -0.038072   \n",
       "1             0.047361          0.497724         0.019325          0.223454   \n",
       "\n",
       "       total_night_calls  total_nightcharge  total_intl_calls  \\\n",
       "Churn                                                           \n",
       "0              -0.002343          -0.015351          0.024005   \n",
       "1               0.013753           0.090099         -0.140894   \n",
       "\n",
       "       total_intl_charge  state_AK  state_AL    ...     state_SD  state_TN  \\\n",
       "Churn                                           ...                          \n",
       "0              -0.024683  0.017321  0.025451    ...     0.018381  0.016967   \n",
       "1               0.144874  0.006224  0.016598    ...     0.016598  0.010373   \n",
       "\n",
       "       state_TX  state_UT  state_VA  state_VT  state_WA  state_WI  state_WV  \\\n",
       "Churn                                                                         \n",
       "0      0.019088  0.021916  0.025097  0.022269  0.018381  0.024744  0.033581   \n",
       "1      0.037344  0.020747  0.010373  0.016598  0.029046  0.014523  0.020747   \n",
       "\n",
       "       state_WY  \n",
       "Churn            \n",
       "0      0.023683  \n",
       "1      0.018672  \n",
       "\n",
       "[2 rows x 59 columns]"
      ]
     },
     "execution_count": 297,
     "metadata": {},
     "output_type": "execute_result"
    }
   ],
   "source": [
    "#Check the distribution of each variable around the target variable\n",
    "df_train.groupby(\"Churn\").mean()"
   ]
  },
  {
   "cell_type": "markdown",
   "metadata": {},
   "source": [
    "# 1.1 Lets chech which State having most Churning rate\n",
    "## 1.1(b) Below graph shows WV(West Virginia) having maium number of customer and CA(California) having minimum number of costumer"
   ]
  },
  {
   "cell_type": "code",
   "execution_count": 311,
   "metadata": {
    "scrolled": false
   },
   "outputs": [
    {
     "data": {
      "text/plain": [
       "<matplotlib.axes._subplots.AxesSubplot at 0x41e69c88>"
      ]
     },
     "execution_count": 311,
     "metadata": {},
     "output_type": "execute_result"
    },
    {
     "data": {
      "image/png": "[encoded data removed]",
      "text/plain": [
       "<matplotlib.figure.Figure at 0x422b9e10>"
      ]
     },
     "metadata": {},
     "output_type": "display_data"
    }
   ],
   "source": [
    "\n",
    "df_train.state.value_counts().plot(kind= \"bar\", figsize= (21, 8))"
   ]
  },
  {
   "cell_type": "markdown",
   "metadata": {},
   "source": [
    "## 1.1(c) Which State showing maximum churning lets check statistically"
   ]
  },
  {
   "cell_type": "code",
   "execution_count": 651,
   "metadata": {
    "scrolled": true
   },
   "outputs": [
    {
     "data": {
      "text/html": [
       "<div>\n",
       "<style scoped>\n",
       "    .dataframe tbody tr th:only-of-type {\n",
       "        vertical-align: middle;\n",
       "    }\n",
       "\n",
       "    .dataframe tbody tr th {\n",
       "        vertical-align: top;\n",
       "    }\n",
       "\n",
       "    .dataframe thead th {\n",
       "        text-align: right;\n",
       "    }\n",
       "</style>\n",
       "<table border=\"1\" class=\"dataframe\">\n",
       "  <thead>\n",
       "    <tr style=\"text-align: right;\">\n",
       "      <th></th>\n",
       "      <th></th>\n",
       "      <th>Churn</th>\n",
       "    </tr>\n",
       "    <tr>\n",
       "      <th>state</th>\n",
       "      <th>voice_mail_plan</th>\n",
       "      <th></th>\n",
       "    </tr>\n",
       "  </thead>\n",
       "  <tbody>\n",
       "    <tr>\n",
       "      <th>CA</th>\n",
       "      <th>no</th>\n",
       "      <td>0.318182</td>\n",
       "    </tr>\n",
       "    <tr>\n",
       "      <th>SC</th>\n",
       "      <th>no</th>\n",
       "      <td>0.309524</td>\n",
       "    </tr>\n",
       "    <tr>\n",
       "      <th>TX</th>\n",
       "      <th>no</th>\n",
       "      <td>0.285714</td>\n",
       "    </tr>\n",
       "    <tr>\n",
       "      <th>MD</th>\n",
       "      <th>no</th>\n",
       "      <td>0.283019</td>\n",
       "    </tr>\n",
       "    <tr>\n",
       "      <th>NJ</th>\n",
       "      <th>no</th>\n",
       "      <td>0.270833</td>\n",
       "    </tr>\n",
       "  </tbody>\n",
       "</table>\n",
       "</div>"
      ],
      "text/plain": [
       "                          Churn\n",
       "state voice_mail_plan          \n",
       "CA     no              0.318182\n",
       "SC     no              0.309524\n",
       "TX     no              0.285714\n",
       "MD     no              0.283019\n",
       "NJ     no              0.270833"
      ]
     },
     "execution_count": 651,
     "metadata": {},
     "output_type": "execute_result"
    }
   ],
   "source": [
    "df_train.groupby([\"state\", \"voice_mail_plan\"])[[\"Churn\"]].mean().sort_values(by= \"Churn\", ascending= False).head()"
   ]
  },
  {
   "cell_type": "markdown",
   "metadata": {},
   "source": [
    "## 1.1(c.1)visualise through plot"
   ]
  },
  {
   "cell_type": "code",
   "execution_count": 338,
   "metadata": {
    "scrolled": true
   },
   "outputs": [
    {
     "data": {
      "text/plain": [
       "<matplotlib.axes._subplots.AxesSubplot at 0x41f829e8>"
      ]
     },
     "execution_count": 338,
     "metadata": {},
     "output_type": "execute_result"
    },
    {
     "data": {
      "image/png": "[encoded data removed]",
      "text/plain": [
       "<matplotlib.figure.Figure at 0x1ca945f8>"
      ]
     },
     "metadata": {},
     "output_type": "display_data"
    }
   ],
   "source": [
    "States= pd.crosstab(index= df_train.state, columns= df_train.Churn)\n",
    "\n",
    "States.div(States.sum(1).astype(float), axis=0).plot(kind= \"bar\", figsize= (21, 5), stacked= True)"
   ]
  },
  {
   "cell_type": "markdown",
   "metadata": {},
   "source": [
    "## 1.2 Churning rate with and without voice mail plan\n",
    "## customer with no voice mail plan active having high churning rate"
   ]
  },
  {
   "cell_type": "code",
   "execution_count": 342,
   "metadata": {
    "scrolled": true
   },
   "outputs": [
    {
     "data": {
      "text/plain": [
       "<matplotlib.axes._subplots.AxesSubplot at 0x1ca94a20>"
      ]
     },
     "execution_count": 342,
     "metadata": {},
     "output_type": "execute_result"
    },
    {
     "data": {
      "image/png": "[encoded data removed]",
      "text/plain": [
       "<matplotlib.figure.Figure at 0x12f39cf8>"
      ]
     },
     "metadata": {},
     "output_type": "display_data"
    }
   ],
   "source": [
    "pd.crosstab(index= df_train[\"Churn\"], columns= df_train[\"voice_mail_plan\"]).unstack().plot(kind= \"bar\",stacked= True,  figsize= (21, 6))"
   ]
  },
  {
   "cell_type": "code",
   "execution_count": 14,
   "metadata": {},
   "outputs": [],
   "source": [
    "VmailPlan= pd.crosstab(index= df_train[\"Churn\"], columns= df_train[\"voice_mail_plan\"])"
   ]
  },
  {
   "cell_type": "code",
   "execution_count": 17,
   "metadata": {
    "scrolled": true
   },
   "outputs": [
    {
     "data": {
      "text/plain": [
       "<matplotlib.axes._subplots.AxesSubplot at 0xc484860>"
      ]
     },
     "execution_count": 17,
     "metadata": {},
     "output_type": "execute_result"
    },
    {
     "data": {
      "image/png": "[encoded data removed]",
      "text/plain": [
       "<matplotlib.figure.Figure at 0xc421e10>"
      ]
     },
     "metadata": {},
     "output_type": "display_data"
    }
   ],
   "source": [
    "VmailPlan.div(VmailPlan.sum(1).astype(float), axis=0).plot(kind= \"bar\",stacked= True,  figsize= (5, 4))"
   ]
  },
  {
   "cell_type": "code",
   "execution_count": 346,
   "metadata": {},
   "outputs": [
    {
     "data": {
      "text/plain": [
       "<matplotlib.axes._subplots.AxesSubplot at 0x425c3f60>"
      ]
     },
     "execution_count": 346,
     "metadata": {},
     "output_type": "execute_result"
    },
    {
     "data": {
      "image/png": "[encoded data removed]",
      "text/plain": [
       "<matplotlib.figure.Figure at 0x425af208>"
      ]
     },
     "metadata": {},
     "output_type": "display_data"
    }
   ],
   "source": [
    "interPlan= pd.crosstab(index= df_train[\"Churn\"], columns= df_train[\"international_plan\"])\n",
    "\n",
    "interPlan.div(interPlan.sum(1).astype(float), axis=0).plot(kind= \"bar\",stacked= True,  figsize= (5, 4))"
   ]
  },
  {
   "cell_type": "markdown",
   "metadata": {},
   "source": [
    "## 1.3. Total day Charge is higher than evening and night charge"
   ]
  },
  {
   "cell_type": "code",
   "execution_count": 655,
   "metadata": {
    "scrolled": false
   },
   "outputs": [
    {
     "data": {
      "image/png": "[encoded data removed]",
      "text/plain": [
       "<matplotlib.figure.Figure at 0x28fa1c88>"
      ]
     },
     "metadata": {},
     "output_type": "display_data"
    }
   ],
   "source": [
    "data= df_train.loc[:, [\"total_day_charge\", 'total_eve_charge', 'total_nightcharge', 'total_intl_charge']]\n",
    "ax = sns.boxplot(data=data, orient=\"h\")"
   ]
  },
  {
   "cell_type": "code",
   "execution_count": null,
   "metadata": {},
   "outputs": [],
   "source": []
  },
  {
   "cell_type": "code",
   "execution_count": 656,
   "metadata": {
    "scrolled": false
   },
   "outputs": [
    {
     "data": {
      "image/png": "[encoded data removed]",
      "text/plain": [
       "<matplotlib.figure.Figure at 0x29594710>"
      ]
     },
     "metadata": {},
     "output_type": "display_data"
    }
   ],
   "source": [
    "df_train.boxplot(\"total_day_charge\", by= \"Churn\", figsize= (10, 5))\n",
    "plt.show()\n"
   ]
  },
  {
   "cell_type": "code",
   "execution_count": 657,
   "metadata": {
    "scrolled": false
   },
   "outputs": [
    {
     "data": {
      "image/png": "[encoded data removed]",
      "text/plain": [
       "<matplotlib.figure.Figure at 0x2417ba90>"
      ]
     },
     "metadata": {},
     "output_type": "display_data"
    }
   ],
   "source": [
    "df_train.boxplot(\"total_nightcharge\", by= \"Churn\", figsize= (10, 5))\n",
    "plt.show()"
   ]
  },
  {
   "cell_type": "markdown",
   "metadata": {},
   "source": [
    "## 1.4 Churning rate increasing drastically with increase in number of customer service call"
   ]
  },
  {
   "cell_type": "code",
   "execution_count": 658,
   "metadata": {},
   "outputs": [
    {
     "data": {
      "image/png": "[encoded data removed]",
      "text/plain": [
       "<matplotlib.figure.Figure at 0x1f853160>"
      ]
     },
     "metadata": {},
     "output_type": "display_data"
    }
   ],
   "source": [
    "sns.pointplot(x=\"num _customer_service_calls\", y=\"Churn\", data=df_train);"
   ]
  },
  {
   "cell_type": "markdown",
   "metadata": {},
   "source": [
    "# 2.Feature Selection"
   ]
  },
  {
   "cell_type": "markdown",
   "metadata": {},
   "source": [
    "## 2.1 Correlation between numeric data"
   ]
  },
  {
   "cell_type": "code",
   "execution_count": 659,
   "metadata": {},
   "outputs": [
    {
     "data": {
      "text/html": [
       "<div>\n",
       "<style scoped>\n",
       "    .dataframe tbody tr th:only-of-type {\n",
       "        vertical-align: middle;\n",
       "    }\n",
       "\n",
       "    .dataframe tbody tr th {\n",
       "        vertical-align: top;\n",
       "    }\n",
       "\n",
       "    .dataframe thead th {\n",
       "        text-align: right;\n",
       "    }\n",
       "</style>\n",
       "<table border=\"1\" class=\"dataframe\">\n",
       "  <thead>\n",
       "    <tr style=\"text-align: right;\">\n",
       "      <th></th>\n",
       "      <th>level_0</th>\n",
       "      <th>level_1</th>\n",
       "      <th>0</th>\n",
       "    </tr>\n",
       "  </thead>\n",
       "  <tbody>\n",
       "    <tr>\n",
       "      <th>230</th>\n",
       "      <td>total_night_minutes</td>\n",
       "      <td>total_intl_minutes</td>\n",
       "      <td>0.170348</td>\n",
       "    </tr>\n",
       "    <tr>\n",
       "      <th>231</th>\n",
       "      <td>total_intl_minutes</td>\n",
       "      <td>total_night_minutes</td>\n",
       "      <td>0.170348</td>\n",
       "    </tr>\n",
       "    <tr>\n",
       "      <th>232</th>\n",
       "      <td>total_intl_minutes</td>\n",
       "      <td>total_intl_charge</td>\n",
       "      <td>1.000000</td>\n",
       "    </tr>\n",
       "    <tr>\n",
       "      <th>233</th>\n",
       "      <td>total_intl_charge</td>\n",
       "      <td>total_intl_minutes</td>\n",
       "      <td>1.000000</td>\n",
       "    </tr>\n",
       "    <tr>\n",
       "      <th>234</th>\n",
       "      <td>total_night_minutes</td>\n",
       "      <td>total_nightcharge</td>\n",
       "      <td>1.000000</td>\n",
       "    </tr>\n",
       "    <tr>\n",
       "      <th>235</th>\n",
       "      <td>total_nightcharge</td>\n",
       "      <td>total_night_minutes</td>\n",
       "      <td>1.000000</td>\n",
       "    </tr>\n",
       "    <tr>\n",
       "      <th>236</th>\n",
       "      <td>total_eve_charge</td>\n",
       "      <td>total_eve_mnts</td>\n",
       "      <td>1.000000</td>\n",
       "    </tr>\n",
       "    <tr>\n",
       "      <th>237</th>\n",
       "      <td>total_eve_mnts</td>\n",
       "      <td>total_eve_charge</td>\n",
       "      <td>1.000000</td>\n",
       "    </tr>\n",
       "    <tr>\n",
       "      <th>238</th>\n",
       "      <td>total_day_minutes</td>\n",
       "      <td>total_day_charge</td>\n",
       "      <td>1.000000</td>\n",
       "    </tr>\n",
       "    <tr>\n",
       "      <th>239</th>\n",
       "      <td>total_day_charge</td>\n",
       "      <td>total_day_minutes</td>\n",
       "      <td>1.000000</td>\n",
       "    </tr>\n",
       "  </tbody>\n",
       "</table>\n",
       "</div>"
      ],
      "text/plain": [
       "                 level_0              level_1         0\n",
       "230  total_night_minutes   total_intl_minutes  0.170348\n",
       "231   total_intl_minutes  total_night_minutes  0.170348\n",
       "232   total_intl_minutes    total_intl_charge  1.000000\n",
       "233    total_intl_charge   total_intl_minutes  1.000000\n",
       "234  total_night_minutes    total_nightcharge  1.000000\n",
       "235    total_nightcharge  total_night_minutes  1.000000\n",
       "236     total_eve_charge       total_eve_mnts  1.000000\n",
       "237       total_eve_mnts     total_eve_charge  1.000000\n",
       "238    total_day_minutes     total_day_charge  1.000000\n",
       "239     total_day_charge    total_day_minutes  1.000000"
      ]
     },
     "execution_count": 659,
     "metadata": {},
     "output_type": "execute_result"
    }
   ],
   "source": [
    "num_val_col= df._get_numeric_data()\n",
    "corr_mat= num_val_col.corr()\n",
    "correlations = corr_mat.corr().abs().unstack().sort_values(kind=\"quicksort\").reset_index()\n",
    "correlations = correlations[correlations['level_0'] != correlations['level_1']]\n",
    "correlations.tail(10)"
   ]
  },
  {
   "cell_type": "code",
   "execution_count": 660,
   "metadata": {
    "scrolled": false
   },
   "outputs": [
    {
     "data": {
      "image/png": "[encoded data removed]",
      "text/plain": [
       "<matplotlib.figure.Figure at 0x28ffe828>"
      ]
     },
     "metadata": {},
     "output_type": "display_data"
    }
   ],
   "source": [
    "\n",
    "fig = plt.figure()\n",
    "fig.set_size_inches(8,8)\n",
    "ax = fig.add_subplot(111)\n",
    "cax = ax.matshow(corr_mat,cmap='coolwarm', vmin=-1, vmax=1)\n",
    "fig.colorbar(cax)\n",
    "ticks = np.arange(0,len(num_val_col.columns))\n",
    "ax.set_xticks(ticks)\n",
    "plt.xticks(rotation=90)\n",
    "ax.set_yticks(ticks)\n",
    "ax.set_xticklabels(num_val_col.columns)\n",
    "ax.set_yticklabels(num_val_col.columns)\n",
    "plt.show()"
   ]
  },
  {
   "cell_type": "markdown",
   "metadata": {},
   "source": [
    "# 2.2. Correlation between categorical Data"
   ]
  },
  {
   "cell_type": "code",
   "execution_count": 661,
   "metadata": {},
   "outputs": [
    {
     "name": "stdout",
     "output_type": "stream",
     "text": [
      "state\n",
      "0.0027586777906866908\n",
      "area_code\n",
      "0.9329642589046389\n",
      "phone_num\n",
      "0.49182907227007305\n",
      "international_plan\n",
      "1.8707279810792767e-49\n",
      "voice_mail_plan\n",
      "2.756626608509551e-09\n",
      "number_vmail_msg\n",
      "0.024717476711481834\n",
      "num _customer_service_calls\n",
      "3.5460750115423197e-68\n"
     ]
    }
   ],
   "source": [
    "cat_val= df_train.select_dtypes(include= \"O\")\n",
    "from scipy.stats import chi2_contingency\n",
    "for i in cat_val:\n",
    "    print(i)\n",
    "    chi2, p, dof, ex = chi2_contingency(pd.crosstab(df_train['Churn'], df_train[i]))\n",
    "    print(p)"
   ]
  },
  {
   "cell_type": "code",
   "execution_count": 16,
   "metadata": {},
   "outputs": [],
   "source": [
    "# Remove the unwanted variable from the train data\n",
    "\n",
    "df_train= df_train.drop([\"phone_num\", \"area_code\", \"total_day_minutes\", \"total_eve_mnts\", 'total_night_minutes', \n",
    "                        \"total_intl_minutes\", \"account_len\"], 1)"
   ]
  },
  {
   "cell_type": "markdown",
   "metadata": {},
   "source": [
    "## Convert Churn variable in Yes, no format"
   ]
  },
  {
   "cell_type": "code",
   "execution_count": 191,
   "metadata": {},
   "outputs": [],
   "source": [
    "df_train['Churn'] = df_train['Churn'].replace(0, 'No')\n",
    "df_train['Churn'] = df_train['Churn'].replace(1, 'Yes')"
   ]
  },
  {
   "cell_type": "code",
   "execution_count": 17,
   "metadata": {},
   "outputs": [
    {
     "name": "stdout",
     "output_type": "stream",
     "text": [
      "total_day_calls\n",
      "total_day_charge\n",
      "total_eve_calls\n",
      "total_eve_charge\n",
      "total_night_calls\n",
      "total_nightcharge\n",
      "total_intl_calls\n",
      "total_intl_charge\n"
     ]
    }
   ],
   "source": [
    "num_val_column= df_train.select_dtypes(include= [np.number]).columns\n",
    "#Standarisation\n",
    "for i in num_val_column:\n",
    "    print(i)\n",
    "    df_train[i] = (df_train[i] - df_train[i].mean())/df_train[i].std()"
   ]
  },
  {
   "cell_type": "code",
   "execution_count": 189,
   "metadata": {},
   "outputs": [
    {
     "data": {
      "text/html": [
       "<div>\n",
       "<style scoped>\n",
       "    .dataframe tbody tr th:only-of-type {\n",
       "        vertical-align: middle;\n",
       "    }\n",
       "\n",
       "    .dataframe tbody tr th {\n",
       "        vertical-align: top;\n",
       "    }\n",
       "\n",
       "    .dataframe thead th {\n",
       "        text-align: right;\n",
       "    }\n",
       "</style>\n",
       "<table border=\"1\" class=\"dataframe\">\n",
       "  <thead>\n",
       "    <tr style=\"text-align: right;\">\n",
       "      <th></th>\n",
       "      <th>international_plan</th>\n",
       "      <th>voice_mail_plan</th>\n",
       "      <th>number_vmail_msg</th>\n",
       "      <th>total_day_calls</th>\n",
       "      <th>total_day_charge</th>\n",
       "      <th>total_eve_calls</th>\n",
       "      <th>total_eve_charge</th>\n",
       "      <th>total_night_calls</th>\n",
       "      <th>total_nightcharge</th>\n",
       "      <th>total_intl_calls</th>\n",
       "      <th>...</th>\n",
       "      <th>state_SD</th>\n",
       "      <th>state_TN</th>\n",
       "      <th>state_TX</th>\n",
       "      <th>state_UT</th>\n",
       "      <th>state_VA</th>\n",
       "      <th>state_VT</th>\n",
       "      <th>state_WA</th>\n",
       "      <th>state_WI</th>\n",
       "      <th>state_WV</th>\n",
       "      <th>state_WY</th>\n",
       "    </tr>\n",
       "  </thead>\n",
       "  <tbody>\n",
       "    <tr>\n",
       "      <th>0</th>\n",
       "      <td>0</td>\n",
       "      <td>1</td>\n",
       "      <td>19</td>\n",
       "      <td>0.477386</td>\n",
       "      <td>1.566978</td>\n",
       "      <td>-0.056757</td>\n",
       "      <td>-0.070475</td>\n",
       "      <td>-0.463812</td>\n",
       "      <td>0.866501</td>\n",
       "      <td>-0.615033</td>\n",
       "      <td>...</td>\n",
       "      <td>0</td>\n",
       "      <td>0</td>\n",
       "      <td>0</td>\n",
       "      <td>0</td>\n",
       "      <td>0</td>\n",
       "      <td>0</td>\n",
       "      <td>0</td>\n",
       "      <td>0</td>\n",
       "      <td>0</td>\n",
       "      <td>0</td>\n",
       "    </tr>\n",
       "    <tr>\n",
       "      <th>1</th>\n",
       "      <td>0</td>\n",
       "      <td>1</td>\n",
       "      <td>20</td>\n",
       "      <td>1.124491</td>\n",
       "      <td>-0.335740</td>\n",
       "      <td>0.143907</td>\n",
       "      <td>-0.107579</td>\n",
       "      <td>0.149337</td>\n",
       "      <td>1.059699</td>\n",
       "      <td>-0.615033</td>\n",
       "      <td>...</td>\n",
       "      <td>0</td>\n",
       "      <td>0</td>\n",
       "      <td>0</td>\n",
       "      <td>0</td>\n",
       "      <td>0</td>\n",
       "      <td>0</td>\n",
       "      <td>0</td>\n",
       "      <td>0</td>\n",
       "      <td>0</td>\n",
       "      <td>0</td>\n",
       "    </tr>\n",
       "    <tr>\n",
       "      <th>2</th>\n",
       "      <td>0</td>\n",
       "      <td>0</td>\n",
       "      <td>0</td>\n",
       "      <td>0.676495</td>\n",
       "      <td>1.168056</td>\n",
       "      <td>0.495069</td>\n",
       "      <td>-1.573202</td>\n",
       "      <td>0.200432</td>\n",
       "      <td>-0.753732</td>\n",
       "      <td>0.202624</td>\n",
       "      <td>...</td>\n",
       "      <td>0</td>\n",
       "      <td>0</td>\n",
       "      <td>0</td>\n",
       "      <td>0</td>\n",
       "      <td>0</td>\n",
       "      <td>0</td>\n",
       "      <td>0</td>\n",
       "      <td>0</td>\n",
       "      <td>0</td>\n",
       "      <td>0</td>\n",
       "    </tr>\n",
       "    <tr>\n",
       "      <th>3</th>\n",
       "      <td>1</td>\n",
       "      <td>0</td>\n",
       "      <td>0</td>\n",
       "      <td>-1.463926</td>\n",
       "      <td>2.197254</td>\n",
       "      <td>-0.608583</td>\n",
       "      <td>-2.741990</td>\n",
       "      <td>-0.566003</td>\n",
       "      <td>-0.077537</td>\n",
       "      <td>1.020280</td>\n",
       "      <td>...</td>\n",
       "      <td>0</td>\n",
       "      <td>0</td>\n",
       "      <td>0</td>\n",
       "      <td>0</td>\n",
       "      <td>0</td>\n",
       "      <td>0</td>\n",
       "      <td>0</td>\n",
       "      <td>0</td>\n",
       "      <td>0</td>\n",
       "      <td>0</td>\n",
       "    </tr>\n",
       "    <tr>\n",
       "      <th>4</th>\n",
       "      <td>1</td>\n",
       "      <td>0</td>\n",
       "      <td>0</td>\n",
       "      <td>0.626718</td>\n",
       "      <td>-0.241685</td>\n",
       "      <td>1.097061</td>\n",
       "      <td>-1.037508</td>\n",
       "      <td>1.069059</td>\n",
       "      <td>-0.275127</td>\n",
       "      <td>-0.615033</td>\n",
       "      <td>...</td>\n",
       "      <td>0</td>\n",
       "      <td>0</td>\n",
       "      <td>0</td>\n",
       "      <td>0</td>\n",
       "      <td>0</td>\n",
       "      <td>0</td>\n",
       "      <td>0</td>\n",
       "      <td>0</td>\n",
       "      <td>0</td>\n",
       "      <td>0</td>\n",
       "    </tr>\n",
       "  </tbody>\n",
       "</table>\n",
       "<p>5 rows × 64 columns</p>\n",
       "</div>"
      ],
      "text/plain": [
       "  international_plan voice_mail_plan number_vmail_msg  total_day_calls  \\\n",
       "0                  0               1               19         0.477386   \n",
       "1                  0               1               20         1.124491   \n",
       "2                  0               0                0         0.676495   \n",
       "3                  1               0                0        -1.463926   \n",
       "4                  1               0                0         0.626718   \n",
       "\n",
       "   total_day_charge  total_eve_calls  total_eve_charge  total_night_calls  \\\n",
       "0          1.566978        -0.056757         -0.070475          -0.463812   \n",
       "1         -0.335740         0.143907         -0.107579           0.149337   \n",
       "2          1.168056         0.495069         -1.573202           0.200432   \n",
       "3          2.197254        -0.608583         -2.741990          -0.566003   \n",
       "4         -0.241685         1.097061         -1.037508           1.069059   \n",
       "\n",
       "   total_nightcharge  total_intl_calls    ...     state_SD state_TN state_TX  \\\n",
       "0           0.866501         -0.615033    ...            0        0        0   \n",
       "1           1.059699         -0.615033    ...            0        0        0   \n",
       "2          -0.753732          0.202624    ...            0        0        0   \n",
       "3          -0.077537          1.020280    ...            0        0        0   \n",
       "4          -0.275127         -0.615033    ...            0        0        0   \n",
       "\n",
       "   state_UT  state_VA  state_VT  state_WA  state_WI  state_WV  state_WY  \n",
       "0         0         0         0         0         0         0         0  \n",
       "1         0         0         0         0         0         0         0  \n",
       "2         0         0         0         0         0         0         0  \n",
       "3         0         0         0         0         0         0         0  \n",
       "4         0         0         0         0         0         0         0  \n",
       "\n",
       "[5 rows x 64 columns]"
      ]
     },
     "execution_count": 189,
     "metadata": {},
     "output_type": "execute_result"
    }
   ],
   "source": [
    "df_train.head()"
   ]
  },
  {
   "cell_type": "code",
   "execution_count": 19,
   "metadata": {},
   "outputs": [],
   "source": [
    "lis = []\n",
    "for i in range(1, df_train.shape[1]):\n",
    "    if(df_train.iloc[:,i].dtypes == 'object'):\n",
    "         df_train.iloc[:,i] = pd.Categorical(df_train.iloc[:,i])\n",
    "         df_train.iloc[:,i] = df_train.iloc[:,i].cat.codes\n",
    "         df_train.iloc[:,i] = df_train.iloc[:,i].astype('object')\n",
    "         lis.append(df_train.columns[i])"
   ]
  },
  {
   "cell_type": "code",
   "execution_count": 20,
   "metadata": {},
   "outputs": [
    {
     "data": {
      "text/html": [
       "<div>\n",
       "<style scoped>\n",
       "    .dataframe tbody tr th:only-of-type {\n",
       "        vertical-align: middle;\n",
       "    }\n",
       "\n",
       "    .dataframe tbody tr th {\n",
       "        vertical-align: top;\n",
       "    }\n",
       "\n",
       "    .dataframe thead th {\n",
       "        text-align: right;\n",
       "    }\n",
       "</style>\n",
       "<table border=\"1\" class=\"dataframe\">\n",
       "  <thead>\n",
       "    <tr style=\"text-align: right;\">\n",
       "      <th></th>\n",
       "      <th>state</th>\n",
       "      <th>international_plan</th>\n",
       "      <th>voice_mail_plan</th>\n",
       "      <th>number_vmail_msg</th>\n",
       "      <th>total_day_calls</th>\n",
       "      <th>total_day_charge</th>\n",
       "      <th>total_eve_calls</th>\n",
       "      <th>total_eve_charge</th>\n",
       "      <th>total_night_calls</th>\n",
       "      <th>total_nightcharge</th>\n",
       "      <th>total_intl_calls</th>\n",
       "      <th>total_intl_charge</th>\n",
       "      <th>num _customer_service_calls</th>\n",
       "      <th>Churn</th>\n",
       "    </tr>\n",
       "  </thead>\n",
       "  <tbody>\n",
       "    <tr>\n",
       "      <th>0</th>\n",
       "      <td>KS</td>\n",
       "      <td>0</td>\n",
       "      <td>1</td>\n",
       "      <td>19</td>\n",
       "      <td>0.477386</td>\n",
       "      <td>1.566978</td>\n",
       "      <td>-0.056757</td>\n",
       "      <td>-0.070475</td>\n",
       "      <td>-0.463812</td>\n",
       "      <td>0.866501</td>\n",
       "      <td>-0.615033</td>\n",
       "      <td>-0.110064</td>\n",
       "      <td>1</td>\n",
       "      <td>0</td>\n",
       "    </tr>\n",
       "    <tr>\n",
       "      <th>1</th>\n",
       "      <td>OH</td>\n",
       "      <td>0</td>\n",
       "      <td>1</td>\n",
       "      <td>20</td>\n",
       "      <td>1.124491</td>\n",
       "      <td>-0.335740</td>\n",
       "      <td>0.143907</td>\n",
       "      <td>-0.107579</td>\n",
       "      <td>0.149337</td>\n",
       "      <td>1.059699</td>\n",
       "      <td>-0.615033</td>\n",
       "      <td>1.272942</td>\n",
       "      <td>1</td>\n",
       "      <td>0</td>\n",
       "    </tr>\n",
       "    <tr>\n",
       "      <th>2</th>\n",
       "      <td>NJ</td>\n",
       "      <td>0</td>\n",
       "      <td>0</td>\n",
       "      <td>0</td>\n",
       "      <td>0.676495</td>\n",
       "      <td>1.168056</td>\n",
       "      <td>0.495069</td>\n",
       "      <td>-1.573202</td>\n",
       "      <td>0.200432</td>\n",
       "      <td>-0.753732</td>\n",
       "      <td>0.202624</td>\n",
       "      <td>0.705910</td>\n",
       "      <td>0</td>\n",
       "      <td>0</td>\n",
       "    </tr>\n",
       "    <tr>\n",
       "      <th>3</th>\n",
       "      <td>OH</td>\n",
       "      <td>1</td>\n",
       "      <td>0</td>\n",
       "      <td>0</td>\n",
       "      <td>-1.463926</td>\n",
       "      <td>2.197254</td>\n",
       "      <td>-0.608583</td>\n",
       "      <td>-2.741990</td>\n",
       "      <td>-0.566003</td>\n",
       "      <td>-0.077537</td>\n",
       "      <td>1.020280</td>\n",
       "      <td>-1.382430</td>\n",
       "      <td>2</td>\n",
       "      <td>0</td>\n",
       "    </tr>\n",
       "    <tr>\n",
       "      <th>4</th>\n",
       "      <td>OK</td>\n",
       "      <td>1</td>\n",
       "      <td>0</td>\n",
       "      <td>0</td>\n",
       "      <td>0.626718</td>\n",
       "      <td>-0.241685</td>\n",
       "      <td>1.097061</td>\n",
       "      <td>-1.037508</td>\n",
       "      <td>1.069059</td>\n",
       "      <td>-0.275127</td>\n",
       "      <td>-0.615033</td>\n",
       "      <td>-0.068574</td>\n",
       "      <td>3</td>\n",
       "      <td>0</td>\n",
       "    </tr>\n",
       "  </tbody>\n",
       "</table>\n",
       "</div>"
      ],
      "text/plain": [
       "  state international_plan voice_mail_plan number_vmail_msg  total_day_calls  \\\n",
       "0    KS                  0               1               19         0.477386   \n",
       "1    OH                  0               1               20         1.124491   \n",
       "2    NJ                  0               0                0         0.676495   \n",
       "3    OH                  1               0                0        -1.463926   \n",
       "4    OK                  1               0                0         0.626718   \n",
       "\n",
       "   total_day_charge  total_eve_calls  total_eve_charge  total_night_calls  \\\n",
       "0          1.566978        -0.056757         -0.070475          -0.463812   \n",
       "1         -0.335740         0.143907         -0.107579           0.149337   \n",
       "2          1.168056         0.495069         -1.573202           0.200432   \n",
       "3          2.197254        -0.608583         -2.741990          -0.566003   \n",
       "4         -0.241685         1.097061         -1.037508           1.069059   \n",
       "\n",
       "   total_nightcharge  total_intl_calls  total_intl_charge  \\\n",
       "0           0.866501         -0.615033          -0.110064   \n",
       "1           1.059699         -0.615033           1.272942   \n",
       "2          -0.753732          0.202624           0.705910   \n",
       "3          -0.077537          1.020280          -1.382430   \n",
       "4          -0.275127         -0.615033          -0.068574   \n",
       "\n",
       "  num _customer_service_calls Churn  \n",
       "0                           1     0  \n",
       "1                           1     0  \n",
       "2                           0     0  \n",
       "3                           2     0  \n",
       "4                           3     0  "
      ]
     },
     "execution_count": 20,
     "metadata": {},
     "output_type": "execute_result"
    }
   ],
   "source": [
    "df_train.head()"
   ]
  },
  {
   "cell_type": "code",
   "execution_count": 179,
   "metadata": {
    "scrolled": true
   },
   "outputs": [
    {
     "name": "stdout",
     "output_type": "stream",
     "text": [
      "  international_plan voice_mail_plan number_vmail_msg  total_day_calls  \\\n",
      "0                  0               1               19         0.477386   \n",
      "1                  0               1               20         1.124491   \n",
      "2                  0               0                0         0.676495   \n",
      "3                  1               0                0        -1.463926   \n",
      "4                  1               0                0         0.626718   \n",
      "\n",
      "   total_day_charge  total_eve_calls  total_eve_charge  total_night_calls  \\\n",
      "0          1.566978        -0.056757         -0.070475          -0.463812   \n",
      "1         -0.335740         0.143907         -0.107579           0.149337   \n",
      "2          1.168056         0.495069         -1.573202           0.200432   \n",
      "3          2.197254        -0.608583         -2.741990          -0.566003   \n",
      "4         -0.241685         1.097061         -1.037508           1.069059   \n",
      "\n",
      "   total_nightcharge  total_intl_calls    ...     state_SD state_TN state_TX  \\\n",
      "0           0.866501         -0.615033    ...            0        0        0   \n",
      "1           1.059699         -0.615033    ...            0        0        0   \n",
      "2          -0.753732          0.202624    ...            0        0        0   \n",
      "3          -0.077537          1.020280    ...            0        0        0   \n",
      "4          -0.275127         -0.615033    ...            0        0        0   \n",
      "\n",
      "   state_UT  state_VA  state_VT  state_WA  state_WI  state_WV  state_WY  \n",
      "0         0         0         0         0         0         0         0  \n",
      "1         0         0         0         0         0         0         0  \n",
      "2         0         0         0         0         0         0         0  \n",
      "3         0         0         0         0         0         0         0  \n",
      "4         0         0         0         0         0         0         0  \n",
      "\n",
      "[5 rows x 64 columns]\n"
     ]
    }
   ],
   "source": [
    "#df_train_onehot = df_train.copy()\n",
    "df_train = pd.get_dummies(df_train, columns=['state'], prefix = ['state'])\n",
    "\n",
    "print(df_train.head())\n",
    "\n",
    "\n"
   ]
  },
  {
   "cell_type": "code",
   "execution_count": null,
   "metadata": {},
   "outputs": [],
   "source": []
  },
  {
   "cell_type": "markdown",
   "metadata": {
    "scrolled": true
   },
   "source": [
    "## MODELING part-1(Without sampling the target variable)"
   ]
  },
  {
   "cell_type": "code",
   "execution_count": 25,
   "metadata": {},
   "outputs": [],
   "source": [
    "#Import Libraries for decision tree\n",
    "from sklearn import tree\n",
    "from sklearn.metrics import accuracy_score\n",
    "from sklearn.model_selection import train_test_split"
   ]
  },
  {
   "cell_type": "code",
   "execution_count": null,
   "metadata": {},
   "outputs": [],
   "source": []
  },
  {
   "cell_type": "code",
   "execution_count": 206,
   "metadata": {},
   "outputs": [
    {
     "name": "stdout",
     "output_type": "stream",
     "text": [
      "(3311, 63) (3311,)\n"
     ]
    }
   ],
   "source": [
    "#Train test split\n",
    "\n",
    "x= df_train.drop([\"Churn\"], axis= 1)\n",
    "y= df_train.Churn\n",
    "print(x.shape, y.shape)"
   ]
  },
  {
   "cell_type": "code",
   "execution_count": 207,
   "metadata": {},
   "outputs": [
    {
     "name": "stdout",
     "output_type": "stream",
     "text": [
      "(2648, 63) (2648,) (663, 63) (663,)\n"
     ]
    }
   ],
   "source": [
    "X_train, X_test, Y_train, Y_test = train_test_split( x, y, test_size = 0.2, random_state= 1)\n",
    "print(X_train.shape, Y_train.shape, X_test.shape, Y_test.shape)"
   ]
  },
  {
   "cell_type": "markdown",
   "metadata": {},
   "source": [
    "## Decision Tree"
   ]
  },
  {
   "cell_type": "code",
   "execution_count": 208,
   "metadata": {},
   "outputs": [],
   "source": [
    "C50_model = tree.DecisionTreeClassifier(criterion='entropy').fit(X_train, Y_train)"
   ]
  },
  {
   "cell_type": "code",
   "execution_count": 198,
   "metadata": {},
   "outputs": [
    {
     "name": "stdout",
     "output_type": "stream",
     "text": [
      "['No' 'Yes']\n"
     ]
    }
   ],
   "source": [
    "C50_Predictions = C50_model.predict(X_test)\n",
    "print(np.unique(C50_Predictions))          # Check whether predicting both minority & mejority or ignoring minority class\n"
   ]
  },
  {
   "cell_type": "code",
   "execution_count": 200,
   "metadata": {},
   "outputs": [
    {
     "data": {
      "text/plain": [
       "<matplotlib.axes._subplots.AxesSubplot at 0x1c5600b8>"
      ]
     },
     "execution_count": 200,
     "metadata": {},
     "output_type": "execute_result"
    },
    {
     "data": {
      "image/png": "[encoded data removed]",
      "text/plain": [
       "<matplotlib.figure.Figure at 0x1c5754e0>"
      ]
     },
     "metadata": {},
     "output_type": "display_data"
    }
   ],
   "source": [
    "CM = pd.crosstab(Y_test, C50_Predictions)\n",
    "skplt.metrics.plot_confusion_matrix(Y_test, C50_Predictions, normalize=False)"
   ]
  },
  {
   "cell_type": "code",
   "execution_count": 218,
   "metadata": {},
   "outputs": [
    {
     "data": {
      "text/plain": [
       "92.60935143288084"
      ]
     },
     "execution_count": 218,
     "metadata": {},
     "output_type": "execute_result"
    }
   ],
   "source": [
    "#accuracy_score(Y_test, C50_Predictions)*100                  \n",
    "TP= 72\n",
    "TN= 542\n",
    "FP= 31\n",
    "FN= 18\n",
    "((TP+TN)*100)/(TP+TN+FP+FN)           #92.60"
   ]
  },
  {
   "cell_type": "code",
   "execution_count": 219,
   "metadata": {},
   "outputs": [
    {
     "data": {
      "text/plain": [
       "20.0"
      ]
     },
     "execution_count": 219,
     "metadata": {},
     "output_type": "execute_result"
    }
   ],
   "source": [
    "#False Negative rate     #20%\n",
    "(FN*100)/(FN+TP)\n",
    "#18/(18+72)"
   ]
  },
  {
   "cell_type": "code",
   "execution_count": 211,
   "metadata": {},
   "outputs": [
    {
     "data": {
      "text/plain": [
       "<matplotlib.legend.Legend at 0x1c85b978>"
      ]
     },
     "execution_count": 211,
     "metadata": {},
     "output_type": "execute_result"
    },
    {
     "data": {
      "image/png": "[encoded data removed]",
      "text/plain": [
       "<matplotlib.figure.Figure at 0x1c7589e8>"
      ]
     },
     "metadata": {},
     "output_type": "display_data"
    }
   ],
   "source": [
    "from sklearn import metrics\n",
    "C50_Predictions_prob = C50_model.predict_proba(X_test)[::,1]\n",
    "fpr, tpr, _ = metrics.roc_curve(Y_test, C50_Predictions_prob)\n",
    "auc = metrics.roc_auc_score(Y_test, C50_Predictions_prob)\n",
    "plt.plot(fpr,tpr,label=\"Churn, auc=\"+str(auc))\n",
    "plt.legend()"
   ]
  },
  {
   "cell_type": "markdown",
   "metadata": {},
   "source": [
    "## Random Forest Classification"
   ]
  },
  {
   "cell_type": "code",
   "execution_count": 212,
   "metadata": {},
   "outputs": [],
   "source": [
    "from sklearn.ensemble import RandomForestClassifier\n",
    "\n",
    "RF_model = RandomForestClassifier(n_estimators = 2000).fit(X_train, Y_train)\n",
    "RF_Predictions = RF_model.predict(X_test)"
   ]
  },
  {
   "cell_type": "code",
   "execution_count": 222,
   "metadata": {
    "scrolled": true
   },
   "outputs": [
    {
     "data": {
      "text/plain": [
       "36.666666666666664"
      ]
     },
     "execution_count": 222,
     "metadata": {},
     "output_type": "execute_result"
    },
    {
     "data": {
      "image/png": "[encoded data removed]",
      "text/plain": [
       "<matplotlib.figure.Figure at 0x1cab93c8>"
      ]
     },
     "metadata": {},
     "output_type": "display_data"
    }
   ],
   "source": [
    "CM = pd.crosstab(Y_test, RF_Predictions)\n",
    "skplt.metrics.plot_confusion_matrix(Y_test, RF_Predictions, normalize=False)\n",
    "TP= 57\n",
    "TN= 570\n",
    "FN= 33\n",
    "FP= 3\n",
    "\n",
    "((TP+TN)*100)/(TP+TN+FP+FN)           #94.57\n",
    "#False Negative rate \n",
    "(FN*100)/(FN+TP)                     #36.66\n"
   ]
  },
  {
   "cell_type": "code",
   "execution_count": 214,
   "metadata": {},
   "outputs": [
    {
     "data": {
      "text/plain": [
       "<matplotlib.legend.Legend at 0x1c51bd68>"
      ]
     },
     "execution_count": 214,
     "metadata": {},
     "output_type": "execute_result"
    },
    {
     "data": {
      "image/png": "[encoded data removed]",
      "text/plain": [
       "<matplotlib.figure.Figure at 0x1c476fd0>"
      ]
     },
     "metadata": {},
     "output_type": "display_data"
    }
   ],
   "source": [
    "from sklearn import metrics\n",
    "RF_Predictions_prob = RF_model.predict_proba(X_test)[::,1]\n",
    "fpr, tpr, _ = metrics.roc_curve(Y_test, RF_Predictions_prob)\n",
    "auc = metrics.roc_auc_score(Y_test, RF_Predictions_prob)\n",
    "plt.plot(fpr,tpr,label=\"Churn, auc=\"+str(auc))\n",
    "plt.legend()"
   ]
  },
  {
   "cell_type": "markdown",
   "metadata": {},
   "source": [
    "## KNN Classificaion"
   ]
  },
  {
   "cell_type": "code",
   "execution_count": 223,
   "metadata": {},
   "outputs": [],
   "source": [
    "#KNN implementation\n",
    "from sklearn.neighbors import KNeighborsClassifier\n",
    "\n",
    "KNN_model = KNeighborsClassifier(n_neighbors = 5).fit(X_train, Y_train)"
   ]
  },
  {
   "cell_type": "code",
   "execution_count": 224,
   "metadata": {},
   "outputs": [],
   "source": [
    "KNN_Predictions = KNN_model.predict(X_test)"
   ]
  },
  {
   "cell_type": "code",
   "execution_count": 225,
   "metadata": {},
   "outputs": [
    {
     "name": "stdout",
     "output_type": "stream",
     "text": [
      "94.57013574660634 36.666666666666664\n"
     ]
    },
    {
     "data": {
      "image/png": "[encoded data removed]",
      "text/plain": [
       "<matplotlib.figure.Figure at 0x1cb1f518>"
      ]
     },
     "metadata": {},
     "output_type": "display_data"
    }
   ],
   "source": [
    "#confusion matrix\n",
    "CM = pd.crosstab(Y_test, KNN_Predictions)\n",
    "skplt.metrics.plot_confusion_matrix(Y_test, KNN_Predictions, normalize=False)\n",
    "\n",
    "#let us save TP, TN, FP, FN\n",
    "\n",
    "\n",
    "\n",
    "#check accuracy of model\n",
    "#accuracy_score(y_test, y_pred)*100\n",
    "accuracy_score= ((TP+TN)*100)/(TP+TN+FP+FN)\n",
    "\n",
    "#False Negative rate \n",
    "FN_rate= (FN*100)/(FN+TP)\n",
    "print(accuracy_score, FN_rate)"
   ]
  },
  {
   "cell_type": "markdown",
   "metadata": {},
   "source": [
    "## Naive Bais"
   ]
  },
  {
   "cell_type": "code",
   "execution_count": 826,
   "metadata": {},
   "outputs": [],
   "source": [
    "#Naive Bayes\n",
    "from sklearn.naive_bayes import GaussianNB\n",
    "\n",
    "#Naive Bayes implementation\n",
    "NB_model = GaussianNB().fit(X_train, Y_train)"
   ]
  },
  {
   "cell_type": "code",
   "execution_count": 827,
   "metadata": {},
   "outputs": [],
   "source": [
    "NB_Predictions = NB_model.predict(X_test)"
   ]
  },
  {
   "cell_type": "code",
   "execution_count": 828,
   "metadata": {},
   "outputs": [
    {
     "name": "stdout",
     "output_type": "stream",
     "text": [
      "61.085972850678736 36.666666666666664\n"
     ]
    }
   ],
   "source": [
    "#Build confusion matrix\n",
    "CM = pd.crosstab(Y_test, NB_Predictions)\n",
    "\n",
    "#let us save TP, TN, FP, FN\n",
    "TN = CM.iloc[0,0]\n",
    "FN = CM.iloc[1,0]\n",
    "TP = CM.iloc[1,1]\n",
    "FP = CM.iloc[0,1]\n",
    "\n",
    "#check accuracy of model\n",
    "#accuracy_score(y_test, y_pred)*100\n",
    "accuracy_score= ((TP+TN)*100)/(TP+TN+FP+FN)\n",
    "\n",
    "#False Negative rate \n",
    "FN_rate= (FN*100)/(FN+TP)\n",
    "print(accuracy_score, FN_rate)"
   ]
  },
  {
   "cell_type": "code",
   "execution_count": 860,
   "metadata": {},
   "outputs": [
    {
     "data": {
      "text/plain": [
       "No     2829\n",
       "Yes     482\n",
       "Name: Churn, dtype: int64"
      ]
     },
     "execution_count": 860,
     "metadata": {},
     "output_type": "execute_result"
    }
   ],
   "source": [
    "df_train.Churn.value_counts()"
   ]
  },
  {
   "cell_type": "code",
   "execution_count": null,
   "metadata": {},
   "outputs": [],
   "source": []
  },
  {
   "cell_type": "code",
   "execution_count": 868,
   "metadata": {},
   "outputs": [
    {
     "name": "stdout",
     "output_type": "stream",
     "text": [
      "86.63\n"
     ]
    }
   ],
   "source": [
    "from sklearn.linear_model import LogisticRegression\n",
    "logreg = LogisticRegression()\n",
    "clffit= logreg.fit(X_train, Y_train)\n",
    "Y_pred_logit = logreg.predict(X_test)\n",
    "acc_log_train = round(logreg.score(X_train, Y_train) * 100, 2)\n",
    "acc_log_test = round(logreg.score(X_test, Y_test) * 100, 2)\n",
    "print(acc_log_train)"
   ]
  },
  {
   "cell_type": "code",
   "execution_count": 870,
   "metadata": {},
   "outputs": [
    {
     "data": {
      "text/html": [
       "<div>\n",
       "<style scoped>\n",
       "    .dataframe tbody tr th:only-of-type {\n",
       "        vertical-align: middle;\n",
       "    }\n",
       "\n",
       "    .dataframe tbody tr th {\n",
       "        vertical-align: top;\n",
       "    }\n",
       "\n",
       "    .dataframe thead th {\n",
       "        text-align: right;\n",
       "    }\n",
       "</style>\n",
       "<table border=\"1\" class=\"dataframe\">\n",
       "  <thead>\n",
       "    <tr style=\"text-align: right;\">\n",
       "      <th>col_0</th>\n",
       "      <th>0</th>\n",
       "      <th>1</th>\n",
       "    </tr>\n",
       "    <tr>\n",
       "      <th>Churn</th>\n",
       "      <th></th>\n",
       "      <th></th>\n",
       "    </tr>\n",
       "  </thead>\n",
       "  <tbody>\n",
       "    <tr>\n",
       "      <th>0</th>\n",
       "      <td>553</td>\n",
       "      <td>20</td>\n",
       "    </tr>\n",
       "    <tr>\n",
       "      <th>1</th>\n",
       "      <td>62</td>\n",
       "      <td>28</td>\n",
       "    </tr>\n",
       "  </tbody>\n",
       "</table>\n",
       "</div>"
      ],
      "text/plain": [
       "col_0    0   1\n",
       "Churn         \n",
       "0      553  20\n",
       "1       62  28"
      ]
     },
     "execution_count": 870,
     "metadata": {},
     "output_type": "execute_result"
    }
   ],
   "source": [
    "CM = pd.crosstab(Y_test, Y_pred_logit)\n",
    "CM"
   ]
  },
  {
   "cell_type": "code",
   "execution_count": 873,
   "metadata": {},
   "outputs": [
    {
     "data": {
      "text/plain": [
       "87.63197586726999"
      ]
     },
     "execution_count": 873,
     "metadata": {},
     "output_type": "execute_result"
    }
   ],
   "source": [
    "#let us save TP, TN, FP, FN\n",
    "TN = CM.iloc[0,0]\n",
    "FN = CM.iloc[1,0]\n",
    "TP = CM.iloc[1,1]\n",
    "FP = CM.iloc[0,1]\n",
    "\n",
    "#check accuracy of model\n",
    "#accuracy_score(y_test, y_pred)*100\n",
    "((TP+TN)*100)/(TP+TN+FP+FN)                   #87.63\n",
    "\n",
    "#(FN*100)/(FN+TP)                             #68.88"
   ]
  },
  {
   "cell_type": "code",
   "execution_count": null,
   "metadata": {},
   "outputs": [],
   "source": []
  },
  {
   "cell_type": "code",
   "execution_count": 230,
   "metadata": {},
   "outputs": [
    {
     "name": "stderr",
     "output_type": "stream",
     "text": [
      "C:\\ProgramData\\Anaconda3\\lib\\site-packages\\sklearn\\svm\\base.py:196: FutureWarning: The default value of gamma will change from 'auto' to 'scale' in version 0.22 to account better for unscaled features. Set gamma explicitly to 'auto' or 'scale' to avoid this warning.\n",
      "  \"avoid this warning.\", FutureWarning)\n"
     ]
    },
    {
     "name": "stdout",
     "output_type": "stream",
     "text": [
      "88.68778280542986\n"
     ]
    }
   ],
   "source": [
    "svc = SVC()\n",
    "svc.fit(X_train, Y_train)\n",
    "Y_pred_svc = svc.predict(X_test)\n",
    "acc_svc = round(svc.score(X_train, Y_train) * 100, 2)\n",
    "#acc_svc\n",
    "\n",
    "# model accuracy for X_test   \n",
    "accuracy = svc.score(X_test, Y_test)\n",
    "print(accuracy*100)"
   ]
  },
  {
   "cell_type": "code",
   "execution_count": 232,
   "metadata": {},
   "outputs": [
    {
     "data": {
      "image/png": "[encoded data removed]",
      "text/plain": [
       "<matplotlib.figure.Figure at 0x1cb9d6d8>"
      ]
     },
     "metadata": {},
     "output_type": "display_data"
    }
   ],
   "source": [
    "#Build confusion matrix\n",
    "CM = pd.crosstab(Y_test, Y_pred_svc)\n",
    "skplt.metrics.plot_confusion_matrix(Y_test, Y_pred_svc, normalize=False)\n",
    "\n",
    "\n",
    "#let us save TP, TN, FP, FN\n",
    "TN = CM.iloc[0,0]\n",
    "FN = CM.iloc[1,0]\n",
    "TP = CM.iloc[1,1]\n",
    "FP = CM.iloc[0,1]\n",
    "\n",
    "#check accuracy of model\n",
    "#accuracy_score(y_test, y_pred)*100\n",
    "#((TP+TN)*100)/(TP+TN+FP+FN)                             ##88.68\n",
    "\n",
    "#(FN*100)/(FN+TP)                                          #82.22"
   ]
  },
  {
   "cell_type": "markdown",
   "metadata": {},
   "source": [
    "# OVERSAMPLING"
   ]
  },
  {
   "cell_type": "code",
   "execution_count": 42,
   "metadata": {},
   "outputs": [],
   "source": [
    "from imblearn.over_sampling import SMOTE"
   ]
  },
  {
   "cell_type": "code",
   "execution_count": 55,
   "metadata": {},
   "outputs": [],
   "source": [
    "smt = SMOTE()\n",
    "x_train, y_train = smt.fit_sample(X_train, Y_train)"
   ]
  },
  {
   "cell_type": "code",
   "execution_count": 57,
   "metadata": {},
   "outputs": [
    {
     "data": {
      "text/plain": [
       "array([2256, 2256], dtype=int64)"
      ]
     },
     "execution_count": 57,
     "metadata": {},
     "output_type": "execute_result"
    }
   ],
   "source": [
    "np.bincount(y_train)"
   ]
  },
  {
   "cell_type": "markdown",
   "metadata": {},
   "source": [
    "## decision Tree(oversampled)"
   ]
  },
  {
   "cell_type": "code",
   "execution_count": 241,
   "metadata": {},
   "outputs": [
    {
     "name": "stdout",
     "output_type": "stream",
     "text": [
      "[0 1]\n"
     ]
    }
   ],
   "source": [
    "C50_model_over = tree.DecisionTreeClassifier(criterion='entropy').fit(x_train, y_train)\n",
    "C50_Predictions_over = C50_model_over.predict(X_test)\n",
    "print(np.unique(C50_Predictions_over)) "
   ]
  },
  {
   "cell_type": "code",
   "execution_count": 242,
   "metadata": {},
   "outputs": [
    {
     "data": {
      "text/plain": [
       "<matplotlib.axes._subplots.AxesSubplot at 0x36e35b38>"
      ]
     },
     "execution_count": 242,
     "metadata": {},
     "output_type": "execute_result"
    },
    {
     "data": {
      "image/png": "[encoded data removed]",
      "text/plain": [
       "<matplotlib.figure.Figure at 0x36d4cc18>"
      ]
     },
     "metadata": {},
     "output_type": "display_data"
    }
   ],
   "source": [
    "CM = pd.crosstab(Y_test, C50_Predictions_over)\n",
    "skplt.metrics.plot_confusion_matrix(Y_test, C50_Predictions_over, normalize=False)\n"
   ]
  },
  {
   "cell_type": "code",
   "execution_count": 243,
   "metadata": {},
   "outputs": [
    {
     "data": {
      "text/plain": [
       "90.49773755656109"
      ]
     },
     "execution_count": 243,
     "metadata": {},
     "output_type": "execute_result"
    }
   ],
   "source": [
    "#accuracy_score(Y_test, C50_Predictions)*100\n",
    "TP= 71\n",
    "TN= 529\n",
    "FN= 19\n",
    "FP= 44\n",
    "((TP+TN)*100)/(TP+TN+FP+FN)"
   ]
  },
  {
   "cell_type": "code",
   "execution_count": 244,
   "metadata": {},
   "outputs": [
    {
     "data": {
      "text/plain": [
       "21.11111111111111"
      ]
     },
     "execution_count": 244,
     "metadata": {},
     "output_type": "execute_result"
    }
   ],
   "source": [
    "#False Negative rate \n",
    "(FN*100)/(FN+TP) "
   ]
  },
  {
   "cell_type": "code",
   "execution_count": 78,
   "metadata": {},
   "outputs": [],
   "source": []
  },
  {
   "cell_type": "code",
   "execution_count": null,
   "metadata": {},
   "outputs": [],
   "source": []
  },
  {
   "cell_type": "code",
   "execution_count": 245,
   "metadata": {
    "scrolled": true
   },
   "outputs": [
    {
     "data": {
      "image/png": "[encoded data removed]",
      "text/plain": [
       "<matplotlib.figure.Figure at 0x36f736d8>"
      ]
     },
     "metadata": {},
     "output_type": "display_data"
    }
   ],
   "source": [
    "from sklearn import metrics\n",
    "C50_Predictions_prob = C50_model.predict_proba(X_test)[::,1]\n",
    "fpr, tpr, _ = metrics.roc_curve(Y_test,  C50_Predictions_prob)\n",
    "auc = metrics.roc_auc_score(Y_test, C50_Predictions_prob)\n",
    "plt.plot(fpr,tpr,label=\"Churn, auc=\"+str(auc))\n",
    "plt.legend(loc=4)\n",
    "plt.show()"
   ]
  },
  {
   "cell_type": "markdown",
   "metadata": {},
   "source": [
    "## Random Forest Oversampled"
   ]
  },
  {
   "cell_type": "code",
   "execution_count": 246,
   "metadata": {},
   "outputs": [],
   "source": [
    "from sklearn.ensemble import RandomForestClassifier\n",
    "\n",
    "RF_model_over = RandomForestClassifier(n_estimators = 1000).fit(x_train, y_train)\n",
    "RF_Predictions_over = RF_model_over.predict(X_test)"
   ]
  },
  {
   "cell_type": "code",
   "execution_count": 251,
   "metadata": {},
   "outputs": [
    {
     "data": {
      "image/png": "[encoded data removed]",
      "text/plain": [
       "<matplotlib.figure.Figure at 0x1c8d3eb8>"
      ]
     },
     "metadata": {},
     "output_type": "display_data"
    }
   ],
   "source": [
    "CM = pd.crosstab(Y_test, RF_Predictions)\n",
    "skplt.metrics.plot_confusion_matrix(Y_test, RF_Predictions_over, normalize=False)\n",
    "TP= 72\n",
    "TN= 556\n",
    "FP= 17\n",
    "FN= 18\n",
    "\n",
    "\n",
    "#((TP+TN)*100)/(TP+TN+FP+FN)           #94.41\n",
    "#False Negative rate \n",
    "#(FN*100)/(FN+TP)                    #20 "
   ]
  },
  {
   "cell_type": "code",
   "execution_count": null,
   "metadata": {},
   "outputs": [],
   "source": []
  },
  {
   "cell_type": "code",
   "execution_count": 347,
   "metadata": {},
   "outputs": [
    {
     "data": {
      "image/png": "[encoded data removed]",
      "text/plain": [
       "<matplotlib.figure.Figure at 0x42782f60>"
      ]
     },
     "metadata": {},
     "output_type": "display_data"
    }
   ],
   "source": [
    "RF_Predictions_oversa_prob = RF_model_over.predict_proba(X_test)[::,1]\n",
    "fpr, tpr, _ = metrics.roc_curve(Y_test,  RF_Predictions_oversa_prob)\n",
    "auc = metrics.roc_auc_score(Y_test, RF_Predictions_oversa_prob)\n",
    "plt.plot(fpr,tpr,label=\"Churn, auc=\"+str(auc))\n",
    "plt.legend(loc=4)\n",
    "plt.show()"
   ]
  },
  {
   "cell_type": "markdown",
   "metadata": {},
   "source": [
    "# Undersampling"
   ]
  },
  {
   "cell_type": "code",
   "execution_count": 254,
   "metadata": {},
   "outputs": [],
   "source": [
    "from imblearn.under_sampling import NearMiss"
   ]
  },
  {
   "cell_type": "code",
   "execution_count": 255,
   "metadata": {},
   "outputs": [],
   "source": [
    "nr = NearMiss()\n",
    "X_train_und, y_train_und = nr.fit_sample(X_train, Y_train)"
   ]
  },
  {
   "cell_type": "code",
   "execution_count": 256,
   "metadata": {},
   "outputs": [
    {
     "data": {
      "text/plain": [
       "array([392, 392], dtype=int64)"
      ]
     },
     "execution_count": 256,
     "metadata": {},
     "output_type": "execute_result"
    }
   ],
   "source": [
    "np.bincount(y_train_und)"
   ]
  },
  {
   "cell_type": "markdown",
   "metadata": {},
   "source": [
    "## Tree(Undersamled)"
   ]
  },
  {
   "cell_type": "code",
   "execution_count": 257,
   "metadata": {},
   "outputs": [
    {
     "name": "stdout",
     "output_type": "stream",
     "text": [
      "[0 1]\n"
     ]
    }
   ],
   "source": [
    "C50_model_un = tree.DecisionTreeClassifier(criterion='entropy').fit(X_train_und, y_train_und)\n",
    "C50_Predictions_un = C50_model_un.predict(X_test)\n",
    "print(np.unique(C50_Predictions_un)) "
   ]
  },
  {
   "cell_type": "code",
   "execution_count": 259,
   "metadata": {},
   "outputs": [
    {
     "data": {
      "text/plain": [
       "<matplotlib.axes._subplots.AxesSubplot at 0x36eb9160>"
      ]
     },
     "execution_count": 259,
     "metadata": {},
     "output_type": "execute_result"
    },
    {
     "data": {
      "image/png": "[encoded data removed]",
      "text/plain": [
       "<matplotlib.figure.Figure at 0x1c953be0>"
      ]
     },
     "metadata": {},
     "output_type": "display_data"
    }
   ],
   "source": [
    "CM = pd.crosstab(Y_test, C50_Predictions_un)\n",
    "skplt.metrics.plot_confusion_matrix(Y_test, C50_Predictions_un, normalize=False)\n"
   ]
  },
  {
   "cell_type": "code",
   "execution_count": 260,
   "metadata": {},
   "outputs": [
    {
     "data": {
      "text/plain": [
       "61.38763197586727"
      ]
     },
     "execution_count": 260,
     "metadata": {},
     "output_type": "execute_result"
    }
   ],
   "source": [
    "TP= 83\n",
    "TN= 324\n",
    "FN= 7\n",
    "FP= 249\n",
    "\n",
    "\n",
    "\n",
    "\n",
    "((TP+TN)*100)/(TP+TN+FP+FN)"
   ]
  },
  {
   "cell_type": "code",
   "execution_count": 261,
   "metadata": {},
   "outputs": [
    {
     "data": {
      "text/plain": [
       "7.777777777777778"
      ]
     },
     "execution_count": 261,
     "metadata": {},
     "output_type": "execute_result"
    }
   ],
   "source": [
    "#False Negative rate \n",
    "(FN*100)/(FN+TP)"
   ]
  },
  {
   "cell_type": "code",
   "execution_count": null,
   "metadata": {},
   "outputs": [],
   "source": []
  },
  {
   "cell_type": "code",
   "execution_count": 262,
   "metadata": {},
   "outputs": [
    {
     "data": {
      "text/plain": [
       "<matplotlib.legend.Legend at 0x1cb35240>"
      ]
     },
     "execution_count": 262,
     "metadata": {},
     "output_type": "execute_result"
    },
    {
     "data": {
      "image/png": "[encoded data removed]",
      "text/plain": [
       "<matplotlib.figure.Figure at 0x1cb35400>"
      ]
     },
     "metadata": {},
     "output_type": "display_data"
    }
   ],
   "source": [
    "from sklearn import metrics\n",
    "C50_Predictions_und_prob = C50_model_un.predict_proba(X_test)[::,1]\n",
    "fpr, tpr, _ = metrics.roc_curve(Y_test, C50_Predictions_und_prob)\n",
    "auc = metrics.roc_auc_score(Y_test, C50_Predictions_und_prob)\n",
    "plt.plot(fpr,tpr,label=\"Churn, auc=\"+str(auc))\n",
    "plt.legend()"
   ]
  },
  {
   "cell_type": "markdown",
   "metadata": {},
   "source": [
    "## Random Forest(Undersampling)"
   ]
  },
  {
   "cell_type": "code",
   "execution_count": 263,
   "metadata": {},
   "outputs": [],
   "source": [
    "RF_model_unds = RandomForestClassifier(n_estimators = 500).fit(X_train_und, y_train_und)\n",
    "RF_Predictions_unds = RF_model_unds.predict(X_test)"
   ]
  },
  {
   "cell_type": "code",
   "execution_count": 269,
   "metadata": {},
   "outputs": [
    {
     "data": {
      "text/plain": [
       "55.203619909502265"
      ]
     },
     "execution_count": 269,
     "metadata": {},
     "output_type": "execute_result"
    },
    {
     "data": {
      "image/png": "[encoded data removed]",
      "text/plain": [
       "<matplotlib.figure.Figure at 0x420c9d68>"
      ]
     },
     "metadata": {},
     "output_type": "display_data"
    }
   ],
   "source": [
    "CM = pd.crosstab(Y_test,RF_Predictions_unds)\n",
    "skplt.metrics.plot_confusion_matrix(Y_test, RF_Predictions_unds)\n",
    "TP= 86\n",
    "TN= 280\n",
    "FP= 293\n",
    "FN= 4\n",
    "\n",
    "((TP+TN)*100)/(TP+TN+FP+FN)           #55.20\n",
    "#False Negative rate \n",
    "#(FN*100)/(FN+TP)                     #4.44"
   ]
  },
  {
   "cell_type": "code",
   "execution_count": null,
   "metadata": {},
   "outputs": [],
   "source": []
  },
  {
   "cell_type": "code",
   "execution_count": 270,
   "metadata": {},
   "outputs": [
    {
     "data": {
      "image/png": "[encoded data removed]",
      "text/plain": [
       "<matplotlib.figure.Figure at 0x42252f28>"
      ]
     },
     "metadata": {},
     "output_type": "display_data"
    }
   ],
   "source": [
    "RF_Predictions_unds_prob = RF_model_unds.predict_proba(X_test)[::,1]\n",
    "fpr, tpr, _ = metrics.roc_curve(Y_test,  RF_Predictions_unds_prob)\n",
    "auc = metrics.roc_auc_score(Y_test, RF_Predictions_unds_prob)\n",
    "plt.plot(fpr,tpr,label=\"Churn, auc=\"+str(auc))\n",
    "plt.legend(loc=4)\n",
    "plt.show()"
   ]
  },
  {
   "cell_type": "code",
   "execution_count": 271,
   "metadata": {},
   "outputs": [],
   "source": [
    "from imblearn.combine import SMOTETomek\n",
    "\n"
   ]
  },
  {
   "cell_type": "code",
   "execution_count": 282,
   "metadata": {},
   "outputs": [
    {
     "name": "stdout",
     "output_type": "stream",
     "text": [
      "[0 1] [2255 2255]\n"
     ]
    }
   ],
   "source": [
    "smt = SMOTETomek(ratio='auto')\n",
    "X_smt, y_smt = smt.fit_sample(X_train, Y_train)\n",
    "\n",
    "C50_model_both = tree.DecisionTreeClassifier(criterion='entropy').fit(X_smt, y_smt)\n",
    "C50_Predictions_both = C50_model_both.predict(X_test)\n",
    "print(np.unique(C50_Predictions_both), np.bincount(y_smt)) \n"
   ]
  },
  {
   "cell_type": "code",
   "execution_count": 274,
   "metadata": {},
   "outputs": [
    {
     "data": {
      "text/plain": [
       "<matplotlib.axes._subplots.AxesSubplot at 0x42252390>"
      ]
     },
     "execution_count": 274,
     "metadata": {},
     "output_type": "execute_result"
    },
    {
     "data": {
      "image/png": "[encoded data removed]",
      "text/plain": [
       "<matplotlib.figure.Figure at 0x421e5358>"
      ]
     },
     "metadata": {},
     "output_type": "display_data"
    }
   ],
   "source": [
    "CM = pd.crosstab(Y_test, C50_Predictions_both)\n",
    "skplt.metrics.plot_confusion_matrix(Y_test, C50_Predictions_both, normalize=False)\n"
   ]
  },
  {
   "cell_type": "code",
   "execution_count": 293,
   "metadata": {},
   "outputs": [
    {
     "data": {
      "text/plain": [
       "89.894419306184"
      ]
     },
     "execution_count": 293,
     "metadata": {},
     "output_type": "execute_result"
    }
   ],
   "source": [
    "\n",
    "TP= 71\n",
    "TN= 525\n",
    "FP= 48\n",
    "FN= 19\n",
    "((TP+TN)*100)/(TP+TN+FP+FN)"
   ]
  },
  {
   "cell_type": "code",
   "execution_count": 276,
   "metadata": {},
   "outputs": [
    {
     "data": {
      "text/plain": [
       "21.11111111111111"
      ]
     },
     "execution_count": 276,
     "metadata": {},
     "output_type": "execute_result"
    }
   ],
   "source": [
    "#False Negative rate \n",
    "(FN*100)/(FN+TP)"
   ]
  },
  {
   "cell_type": "code",
   "execution_count": 278,
   "metadata": {},
   "outputs": [
    {
     "data": {
      "image/png": "[encoded data removed]",
      "text/plain": [
       "<matplotlib.figure.Figure at 0x42218940>"
      ]
     },
     "metadata": {},
     "output_type": "display_data"
    }
   ],
   "source": [
    "C50_model_both_prob = C50_model_both.predict_proba(X_test)[::,1]\n",
    "fpr, tpr, _ = metrics.roc_curve(Y_test,  C50_model_both_prob)\n",
    "auc = metrics.roc_auc_score(Y_test, C50_model_both_prob)\n",
    "plt.plot(fpr,tpr,label=\"Churn, auc=\"+str(auc))\n",
    "plt.legend(loc=4)\n",
    "plt.show()"
   ]
  },
  {
   "cell_type": "code",
   "execution_count": 279,
   "metadata": {},
   "outputs": [],
   "source": [
    "RF_model_both = RandomForestClassifier(n_estimators = 500).fit(X_smt, y_smt)\n",
    "RF_Predictions_both = RF_model_both.predict(X_test)"
   ]
  },
  {
   "cell_type": "code",
   "execution_count": 283,
   "metadata": {},
   "outputs": [
    {
     "data": {
      "text/plain": [
       "23.333333333333332"
      ]
     },
     "execution_count": 283,
     "metadata": {},
     "output_type": "execute_result"
    },
    {
     "data": {
      "image/png": "[encoded data removed]",
      "text/plain": [
       "<matplotlib.figure.Figure at 0x1c64f1d0>"
      ]
     },
     "metadata": {},
     "output_type": "display_data"
    }
   ],
   "source": [
    "CM = pd.crosstab(Y_test,RF_Predictions_both)\n",
    "skplt.metrics.plot_confusion_matrix(Y_test, RF_Predictions_both, normalize=False)\n",
    "\n",
    "TP= 69\n",
    "TN= 556\n",
    "FP= 17\n",
    "FN= 21\n",
    "\n",
    "\n",
    "#((TP+TN)*100)/(TP+TN+FP+FN)           #94.41\n",
    "#False Negative rate \n",
    "(FN*100)/(FN+TP)                       #23.33"
   ]
  },
  {
   "cell_type": "code",
   "execution_count": 286,
   "metadata": {},
   "outputs": [],
   "source": []
  },
  {
   "cell_type": "code",
   "execution_count": null,
   "metadata": {},
   "outputs": [],
   "source": []
  },
  {
   "cell_type": "code",
   "execution_count": 289,
   "metadata": {},
   "outputs": [],
   "source": []
  },
  {
   "cell_type": "code",
   "execution_count": null,
   "metadata": {},
   "outputs": [],
   "source": []
  },
  {
   "cell_type": "code",
   "execution_count": 294,
   "metadata": {},
   "outputs": [],
   "source": [
    "\n"
   ]
  },
  {
   "cell_type": "code",
   "execution_count": null,
   "metadata": {},
   "outputs": [],
   "source": []
  },
  {
   "cell_type": "code",
   "execution_count": null,
   "metadata": {},
   "outputs": [],
   "source": []
  }
 ],
 "metadata": {
  "kernelspec": {
   "display_name": "Python 3",
   "language": "python",
   "name": "python3"
  },
  "language_info": {
   "codemirror_mode": {
    "name": "ipython",
    "version": 3
   },
   "file_extension": ".py",
   "mimetype": "text/x-python",
   "name": "python",
   "nbconvert_exporter": "python",
   "pygments_lexer": "ipython3",
   "version": "3.6.4"
  }
 },
 "nbformat": 4,
 "nbformat_minor": 2
}
